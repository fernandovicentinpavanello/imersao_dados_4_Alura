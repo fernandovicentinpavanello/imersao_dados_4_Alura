{
 "cells": [
  {
   "cell_type": "markdown",
   "metadata": {},
   "source": [
    "## Desafios Aula 01"
   ]
  },
  {
   "cell_type": "code",
   "execution_count": 60,
   "metadata": {},
   "outputs": [
    {
     "data": {
      "text/html": [
       "<div>\n",
       "<style scoped>\n",
       "    .dataframe tbody tr th:only-of-type {\n",
       "        vertical-align: middle;\n",
       "    }\n",
       "\n",
       "    .dataframe tbody tr th {\n",
       "        vertical-align: top;\n",
       "    }\n",
       "\n",
       "    .dataframe thead th {\n",
       "        text-align: right;\n",
       "    }\n",
       "</style>\n",
       "<table border=\"1\" class=\"dataframe\">\n",
       "  <thead>\n",
       "    <tr style=\"text-align: right;\">\n",
       "      <th></th>\n",
       "      <th>Rua</th>\n",
       "      <th>Bairro</th>\n",
       "      <th>Cidade</th>\n",
       "      <th>Metragem</th>\n",
       "      <th>Quartos</th>\n",
       "      <th>Banheiros</th>\n",
       "      <th>Vagas</th>\n",
       "      <th>Valor</th>\n",
       "    </tr>\n",
       "  </thead>\n",
       "  <tbody>\n",
       "    <tr>\n",
       "      <th>0</th>\n",
       "      <td>Avenida Itacira, 255</td>\n",
       "      <td>Planalto Paulista</td>\n",
       "      <td>São Paulo</td>\n",
       "      <td>1000</td>\n",
       "      <td>4</td>\n",
       "      <td>8</td>\n",
       "      <td>6</td>\n",
       "      <td>R$ 7.000.000</td>\n",
       "    </tr>\n",
       "    <tr>\n",
       "      <th>1</th>\n",
       "      <td>Rua Aurelia Perez Alvarez, 42</td>\n",
       "      <td>Jardim dos Estados</td>\n",
       "      <td>São Paulo</td>\n",
       "      <td>496</td>\n",
       "      <td>4</td>\n",
       "      <td>4</td>\n",
       "      <td>4</td>\n",
       "      <td>R$ 3.700.000</td>\n",
       "    </tr>\n",
       "    <tr>\n",
       "      <th>2</th>\n",
       "      <td>Rua Alba Valdez</td>\n",
       "      <td>Jardim Reimberg</td>\n",
       "      <td>São Paulo</td>\n",
       "      <td>125</td>\n",
       "      <td>4</td>\n",
       "      <td>3</td>\n",
       "      <td>2</td>\n",
       "      <td>R$ 380.000</td>\n",
       "    </tr>\n",
       "    <tr>\n",
       "      <th>3</th>\n",
       "      <td>NaN</td>\n",
       "      <td>Jardim Morumbi</td>\n",
       "      <td>São Paulo</td>\n",
       "      <td>310</td>\n",
       "      <td>3</td>\n",
       "      <td>2</td>\n",
       "      <td>4</td>\n",
       "      <td>R$ 685.000</td>\n",
       "    </tr>\n",
       "    <tr>\n",
       "      <th>4</th>\n",
       "      <td>Rua Tobias Barreto, 195</td>\n",
       "      <td>Mooca</td>\n",
       "      <td>São Paulo</td>\n",
       "      <td>100</td>\n",
       "      <td>3</td>\n",
       "      <td>2</td>\n",
       "      <td>2</td>\n",
       "      <td>R$ 540.000</td>\n",
       "    </tr>\n",
       "    <tr>\n",
       "      <th>...</th>\n",
       "      <td>...</td>\n",
       "      <td>...</td>\n",
       "      <td>...</td>\n",
       "      <td>...</td>\n",
       "      <td>...</td>\n",
       "      <td>...</td>\n",
       "      <td>...</td>\n",
       "      <td>...</td>\n",
       "    </tr>\n",
       "    <tr>\n",
       "      <th>10003</th>\n",
       "      <td>Rua Tapuçu</td>\n",
       "      <td>Vila Sofia</td>\n",
       "      <td>São Paulo</td>\n",
       "      <td>95</td>\n",
       "      <td>2</td>\n",
       "      <td>2</td>\n",
       "      <td>2</td>\n",
       "      <td>R$ 665.000</td>\n",
       "    </tr>\n",
       "    <tr>\n",
       "      <th>10004</th>\n",
       "      <td>Rua Guararema</td>\n",
       "      <td>Bosque da Saúde</td>\n",
       "      <td>São Paulo</td>\n",
       "      <td>605</td>\n",
       "      <td>8</td>\n",
       "      <td>7</td>\n",
       "      <td>5</td>\n",
       "      <td>R$ 2.300.000</td>\n",
       "    </tr>\n",
       "    <tr>\n",
       "      <th>10005</th>\n",
       "      <td>Rua Estero Belaco</td>\n",
       "      <td>Vila da Saúde</td>\n",
       "      <td>São Paulo</td>\n",
       "      <td>205</td>\n",
       "      <td>3</td>\n",
       "      <td>3</td>\n",
       "      <td>6</td>\n",
       "      <td>R$ 1.050.000</td>\n",
       "    </tr>\n",
       "    <tr>\n",
       "      <th>10006</th>\n",
       "      <td>Rua Manuel Onha, , 514</td>\n",
       "      <td>Vila Oratório</td>\n",
       "      <td>São Paulo</td>\n",
       "      <td>185</td>\n",
       "      <td>3</td>\n",
       "      <td>2</td>\n",
       "      <td>2</td>\n",
       "      <td>R$ 2.200\\n                      /Mês</td>\n",
       "    </tr>\n",
       "    <tr>\n",
       "      <th>10007</th>\n",
       "      <td>Rua Barão de Tramandaí, 0</td>\n",
       "      <td>Vila Alpina</td>\n",
       "      <td>São Paulo</td>\n",
       "      <td>122</td>\n",
       "      <td>3</td>\n",
       "      <td>2</td>\n",
       "      <td>2</td>\n",
       "      <td>R$ 270.000</td>\n",
       "    </tr>\n",
       "  </tbody>\n",
       "</table>\n",
       "<p>10008 rows × 8 columns</p>\n",
       "</div>"
      ],
      "text/plain": [
       "                                  Rua              Bairro     Cidade  \\\n",
       "0               Avenida Itacira, 255    Planalto Paulista  São Paulo   \n",
       "1      Rua Aurelia Perez Alvarez, 42   Jardim dos Estados  São Paulo   \n",
       "2                     Rua Alba Valdez     Jardim Reimberg  São Paulo   \n",
       "3                                 NaN      Jardim Morumbi  São Paulo   \n",
       "4            Rua Tobias Barreto, 195                Mooca  São Paulo   \n",
       "...                               ...                 ...        ...   \n",
       "10003                      Rua Tapuçu          Vila Sofia  São Paulo   \n",
       "10004                   Rua Guararema     Bosque da Saúde  São Paulo   \n",
       "10005               Rua Estero Belaco       Vila da Saúde  São Paulo   \n",
       "10006         Rua Manuel Onha, , 514        Vila Oratório  São Paulo   \n",
       "10007      Rua Barão de Tramandaí, 0          Vila Alpina  São Paulo   \n",
       "\n",
       "       Metragem  Quartos  Banheiros  Vagas  \\\n",
       "0          1000        4          8      6   \n",
       "1           496        4          4      4   \n",
       "2           125        4          3      2   \n",
       "3           310        3          2      4   \n",
       "4           100        3          2      2   \n",
       "...         ...      ...        ...    ...   \n",
       "10003        95        2          2      2   \n",
       "10004       605        8          7      5   \n",
       "10005       205        3          3      6   \n",
       "10006       185        3          2      2   \n",
       "10007       122        3          2      2   \n",
       "\n",
       "                                      Valor  \n",
       "0                              R$ 7.000.000  \n",
       "1                              R$ 3.700.000  \n",
       "2                                R$ 380.000  \n",
       "3                                R$ 685.000  \n",
       "4                                R$ 540.000  \n",
       "...                                     ...  \n",
       "10003                            R$ 665.000  \n",
       "10004                          R$ 2.300.000  \n",
       "10005                          R$ 1.050.000  \n",
       "10006  R$ 2.200\\n                      /Mês  \n",
       "10007                            R$ 270.000  \n",
       "\n",
       "[10008 rows x 8 columns]"
      ]
     },
     "execution_count": 60,
     "metadata": {},
     "output_type": "execute_result"
    }
   ],
   "source": [
    "import pandas as pd\n",
    "import numpy as np\n",
    "\n",
    "caminho = './dados_imoveis.csv'\n",
    "dados = pd.read_csv(caminho)\n",
    "\n",
    "dados"
   ]
  },
  {
   "cell_type": "markdown",
   "metadata": {},
   "source": [
    "#### Desafio 1 \n",
    "    - Realizar a média da metragem para cada um dos bairros. (Proposto pelo Paulo)"
   ]
  },
  {
   "cell_type": "code",
   "execution_count": 6,
   "metadata": {},
   "outputs": [
    {
     "data": {
      "text/plain": [
       "0         Planalto Paulista\n",
       "1        Jardim dos Estados\n",
       "2           Jardim Reimberg\n",
       "3            Jardim Morumbi\n",
       "4                     Mooca\n",
       "                ...        \n",
       "10003            Vila Sofia\n",
       "10004       Bosque da Saúde\n",
       "10005         Vila da Saúde\n",
       "10006         Vila Oratório\n",
       "10007           Vila Alpina\n",
       "Name: Bairro, Length: 10008, dtype: object"
      ]
     },
     "execution_count": 6,
     "metadata": {},
     "output_type": "execute_result"
    }
   ],
   "source": [
    "dados[\"Bairro\"]"
   ]
  },
  {
   "cell_type": "markdown",
   "metadata": {},
   "source": [
    "    → Vamos buscar os dados pelo grupo de \"Bairro\", medir a mediana de \"Metragem\", devolver os dados com apenas duas casas decimais filtrando do menor valor até o maior em M2. "
   ]
  },
  {
   "cell_type": "code",
   "execution_count": 31,
   "metadata": {},
   "outputs": [
    {
     "data": {
      "text/plain": [
       "Bairro\n",
       "Vila Guaca                               10.00\n",
       "Vila Leonor                              46.00\n",
       "Jardim Benfica                           48.00\n",
       "Jardim Nova Germania                     57.00\n",
       "Cidade Antônio Estevão de Carvalho       57.50\n",
       "                                        ...   \n",
       "Chácara Flora                          1260.73\n",
       "Jardim das Camélias                    1700.00\n",
       "Jardim Guedala                         2486.64\n",
       "Vila Castelo                           2850.00\n",
       "Sítio Represa                         37000.00\n",
       "Name: Metragem, Length: 701, dtype: float64"
      ]
     },
     "execution_count": 31,
     "metadata": {},
     "output_type": "execute_result"
    }
   ],
   "source": [
    "metragem_bairros = dados.groupby(\"Bairro\")[\"Metragem\"].mean().round(2).sort_values()\n",
    "metragem_bairros"
   ]
  },
  {
   "cell_type": "code",
   "execution_count": 36,
   "metadata": {},
   "outputs": [
    {
     "data": {
      "text/plain": [
       "<AxesSubplot:xlabel='Bairro'>"
      ]
     },
     "execution_count": 36,
     "metadata": {},
     "output_type": "execute_result"
    },
    {
     "data": {
      "image/png": "[encoded data removed]",
      "text/plain": [
       "<Figure size 432x288 with 1 Axes>"
      ]
     },
     "metadata": {
      "needs_background": "light"
     },
     "output_type": "display_data"
    }
   ],
   "source": [
    "metragem_bairros.head(10).plot.bar()"
   ]
  },
  {
   "cell_type": "code",
   "execution_count": 37,
   "metadata": {},
   "outputs": [
    {
     "data": {
      "text/plain": [
       "<AxesSubplot:xlabel='Bairro'>"
      ]
     },
     "execution_count": 37,
     "metadata": {},
     "output_type": "execute_result"
    },
    {
     "data": {
      "image/png": "[encoded data removed]",
      "text/plain": [
       "<Figure size 432x288 with 1 Axes>"
      ]
     },
     "metadata": {
      "needs_background": "light"
     },
     "output_type": "display_data"
    }
   ],
   "source": [
    "metragem_bairros.tail(10).plot.bar()"
   ]
  },
  {
   "cell_type": "markdown",
   "metadata": {},
   "source": [
    "* Anotações sobre o desafio 1:\n",
    "    \n",
    "    - A partir dos resultados podemos analisar que a média dos imóveis é totalmente diferente, temos imóveis com 10m2 até 37000m2, mostrando assim que nossa média é realmente relativa, precisamos analisar melhor os dados, fazer mais limpezas, e refinar melhor nossas opções de busca de dados para termos um resultado mais preciso;\n",
    "    \n",
    "    - Muito interessante as várias maneiras que podemos realizar esse tipo de \"raspagem\", da maneira mais simples ( a apresentada aqui) até a maneira mais elaborada que pude ver buscando na internet para ajudar a realizar o desafio."
   ]
  },
  {
   "cell_type": "markdown",
   "metadata": {},
   "source": [
    "#### Desafio 02 \n",
    "    - Duas formas de selecionar os dados por bairro (consultar os métodos na documentação do Pandas). (Proposto pelo Thiago)"
   ]
  },
  {
   "cell_type": "code",
   "execution_count": 42,
   "metadata": {},
   "outputs": [
    {
     "data": {
      "text/plain": [
       "Alto de Pinheiros     409\n",
       "Jardim Guedala        403\n",
       "Jardim Paulista       309\n",
       "Brooklin Paulista     247\n",
       "Jardim Europa         240\n",
       "                     ... \n",
       "Jardim das Imbuias      1\n",
       "Vila Represa            1\n",
       "Vila Nancy              1\n",
       "Sítio Represa           1\n",
       "Vila Invernada          1\n",
       "Name: Bairro, Length: 701, dtype: int64"
      ]
     },
     "execution_count": 42,
     "metadata": {},
     "output_type": "execute_result"
    }
   ],
   "source": [
    "dados[\"Bairro\"].value_counts()"
   ]
  },
  {
   "cell_type": "markdown",
   "metadata": {},
   "source": [
    "* 2.1 - usando Dataframe[], selecionando a coluna \"Bairro\" com seu respectivo nome."
   ]
  },
  {
   "cell_type": "code",
   "execution_count": 41,
   "metadata": {},
   "outputs": [
    {
     "data": {
      "text/html": [
       "<div>\n",
       "<style scoped>\n",
       "    .dataframe tbody tr th:only-of-type {\n",
       "        vertical-align: middle;\n",
       "    }\n",
       "\n",
       "    .dataframe tbody tr th {\n",
       "        vertical-align: top;\n",
       "    }\n",
       "\n",
       "    .dataframe thead th {\n",
       "        text-align: right;\n",
       "    }\n",
       "</style>\n",
       "<table border=\"1\" class=\"dataframe\">\n",
       "  <thead>\n",
       "    <tr style=\"text-align: right;\">\n",
       "      <th></th>\n",
       "      <th>Bairro</th>\n",
       "    </tr>\n",
       "  </thead>\n",
       "  <tbody>\n",
       "    <tr>\n",
       "      <th>0</th>\n",
       "      <td>Planalto Paulista</td>\n",
       "    </tr>\n",
       "    <tr>\n",
       "      <th>1</th>\n",
       "      <td>Jardim dos Estados</td>\n",
       "    </tr>\n",
       "    <tr>\n",
       "      <th>2</th>\n",
       "      <td>Jardim Reimberg</td>\n",
       "    </tr>\n",
       "    <tr>\n",
       "      <th>3</th>\n",
       "      <td>Jardim Morumbi</td>\n",
       "    </tr>\n",
       "    <tr>\n",
       "      <th>4</th>\n",
       "      <td>Mooca</td>\n",
       "    </tr>\n",
       "    <tr>\n",
       "      <th>...</th>\n",
       "      <td>...</td>\n",
       "    </tr>\n",
       "    <tr>\n",
       "      <th>10003</th>\n",
       "      <td>Vila Sofia</td>\n",
       "    </tr>\n",
       "    <tr>\n",
       "      <th>10004</th>\n",
       "      <td>Bosque da Saúde</td>\n",
       "    </tr>\n",
       "    <tr>\n",
       "      <th>10005</th>\n",
       "      <td>Vila da Saúde</td>\n",
       "    </tr>\n",
       "    <tr>\n",
       "      <th>10006</th>\n",
       "      <td>Vila Oratório</td>\n",
       "    </tr>\n",
       "    <tr>\n",
       "      <th>10007</th>\n",
       "      <td>Vila Alpina</td>\n",
       "    </tr>\n",
       "  </tbody>\n",
       "</table>\n",
       "<p>10008 rows × 1 columns</p>\n",
       "</div>"
      ],
      "text/plain": [
       "                   Bairro\n",
       "0       Planalto Paulista\n",
       "1      Jardim dos Estados\n",
       "2         Jardim Reimberg\n",
       "3          Jardim Morumbi\n",
       "4                   Mooca\n",
       "...                   ...\n",
       "10003          Vila Sofia\n",
       "10004     Bosque da Saúde\n",
       "10005       Vila da Saúde\n",
       "10006       Vila Oratório\n",
       "10007         Vila Alpina\n",
       "\n",
       "[10008 rows x 1 columns]"
      ]
     },
     "execution_count": 41,
     "metadata": {},
     "output_type": "execute_result"
    }
   ],
   "source": [
    "df = pd.DataFrame(dados, columns=[\"Bairro\"])\n",
    "df"
   ]
  },
  {
   "cell_type": "markdown",
   "metadata": {},
   "source": [
    "* 2.2 - Query → Consultando a coluna \"Bairro\" do nosso banco de dados com uma expressão booleana.\n",
    "    * Aqui vamos pesquisar pelo \"Bairro Vila Mariana\", e vamos receber no output todos os imóveis que estão localizados nesse bairro;\n",
    "    * Se não existe nenhum imóvel, recebemos uma tabela vazia."
   ]
  },
  {
   "cell_type": "code",
   "execution_count": 48,
   "metadata": {},
   "outputs": [
    {
     "data": {
      "text/html": [
       "<div>\n",
       "<style scoped>\n",
       "    .dataframe tbody tr th:only-of-type {\n",
       "        vertical-align: middle;\n",
       "    }\n",
       "\n",
       "    .dataframe tbody tr th {\n",
       "        vertical-align: top;\n",
       "    }\n",
       "\n",
       "    .dataframe thead th {\n",
       "        text-align: right;\n",
       "    }\n",
       "</style>\n",
       "<table border=\"1\" class=\"dataframe\">\n",
       "  <thead>\n",
       "    <tr style=\"text-align: right;\">\n",
       "      <th></th>\n",
       "      <th>Rua</th>\n",
       "      <th>Bairro</th>\n",
       "      <th>Cidade</th>\n",
       "      <th>Metragem</th>\n",
       "      <th>Quartos</th>\n",
       "      <th>Banheiros</th>\n",
       "      <th>Vagas</th>\n",
       "      <th>Valor</th>\n",
       "    </tr>\n",
       "  </thead>\n",
       "  <tbody>\n",
       "    <tr>\n",
       "      <th>100</th>\n",
       "      <td>Rua Pero Correia</td>\n",
       "      <td>Vila Mariana</td>\n",
       "      <td>São Paulo</td>\n",
       "      <td>250</td>\n",
       "      <td>3</td>\n",
       "      <td>3</td>\n",
       "      <td>1</td>\n",
       "      <td>R$ 1.350.000</td>\n",
       "    </tr>\n",
       "    <tr>\n",
       "      <th>120</th>\n",
       "      <td>Praça Doutor Carvalho Franco</td>\n",
       "      <td>Vila Mariana</td>\n",
       "      <td>São Paulo</td>\n",
       "      <td>250</td>\n",
       "      <td>3</td>\n",
       "      <td>5</td>\n",
       "      <td>2</td>\n",
       "      <td>R$ 2.450.000</td>\n",
       "    </tr>\n",
       "    <tr>\n",
       "      <th>155</th>\n",
       "      <td>Rua Professor João Marinho</td>\n",
       "      <td>Vila Mariana</td>\n",
       "      <td>São Paulo</td>\n",
       "      <td>170</td>\n",
       "      <td>3</td>\n",
       "      <td>4</td>\n",
       "      <td>2</td>\n",
       "      <td>R$ 1.490.000</td>\n",
       "    </tr>\n",
       "    <tr>\n",
       "      <th>160</th>\n",
       "      <td>NaN</td>\n",
       "      <td>Vila Mariana</td>\n",
       "      <td>São Paulo</td>\n",
       "      <td>228</td>\n",
       "      <td>4</td>\n",
       "      <td>5</td>\n",
       "      <td>3</td>\n",
       "      <td>R$ 2.200.000</td>\n",
       "    </tr>\n",
       "    <tr>\n",
       "      <th>334</th>\n",
       "      <td>Rua Pero Correia, 892</td>\n",
       "      <td>Vila Mariana</td>\n",
       "      <td>São Paulo</td>\n",
       "      <td>350</td>\n",
       "      <td>6</td>\n",
       "      <td>4</td>\n",
       "      <td>10</td>\n",
       "      <td>R$ 1.700.000</td>\n",
       "    </tr>\n",
       "    <tr>\n",
       "      <th>...</th>\n",
       "      <td>...</td>\n",
       "      <td>...</td>\n",
       "      <td>...</td>\n",
       "      <td>...</td>\n",
       "      <td>...</td>\n",
       "      <td>...</td>\n",
       "      <td>...</td>\n",
       "      <td>...</td>\n",
       "    </tr>\n",
       "    <tr>\n",
       "      <th>9645</th>\n",
       "      <td>Rua Sousa Ramos</td>\n",
       "      <td>Vila Mariana</td>\n",
       "      <td>São Paulo</td>\n",
       "      <td>285</td>\n",
       "      <td>3</td>\n",
       "      <td>5</td>\n",
       "      <td>5</td>\n",
       "      <td>R$ 1.650.000</td>\n",
       "    </tr>\n",
       "    <tr>\n",
       "      <th>9701</th>\n",
       "      <td>Rua Benito Juarez</td>\n",
       "      <td>Vila Mariana</td>\n",
       "      <td>São Paulo</td>\n",
       "      <td>171</td>\n",
       "      <td>3</td>\n",
       "      <td>2</td>\n",
       "      <td>4</td>\n",
       "      <td>R$ 1.650.000</td>\n",
       "    </tr>\n",
       "    <tr>\n",
       "      <th>9737</th>\n",
       "      <td>Rua Benito Juarez</td>\n",
       "      <td>Vila Mariana</td>\n",
       "      <td>São Paulo</td>\n",
       "      <td>171</td>\n",
       "      <td>3</td>\n",
       "      <td>2</td>\n",
       "      <td>4</td>\n",
       "      <td>R$ 1.650.000</td>\n",
       "    </tr>\n",
       "    <tr>\n",
       "      <th>9807</th>\n",
       "      <td>NaN</td>\n",
       "      <td>Vila Mariana</td>\n",
       "      <td>São Paulo</td>\n",
       "      <td>275</td>\n",
       "      <td>3</td>\n",
       "      <td>1</td>\n",
       "      <td>6</td>\n",
       "      <td>R$ 1.500.000</td>\n",
       "    </tr>\n",
       "    <tr>\n",
       "      <th>9852</th>\n",
       "      <td>Rua França Pinto</td>\n",
       "      <td>Vila Mariana</td>\n",
       "      <td>São Paulo</td>\n",
       "      <td>280</td>\n",
       "      <td>3</td>\n",
       "      <td>3</td>\n",
       "      <td>4</td>\n",
       "      <td>R$ 1.600.000</td>\n",
       "    </tr>\n",
       "  </tbody>\n",
       "</table>\n",
       "<p>184 rows × 8 columns</p>\n",
       "</div>"
      ],
      "text/plain": [
       "                               Rua        Bairro     Cidade  Metragem  \\\n",
       "100               Rua Pero Correia  Vila Mariana  São Paulo       250   \n",
       "120   Praça Doutor Carvalho Franco  Vila Mariana  São Paulo       250   \n",
       "155     Rua Professor João Marinho  Vila Mariana  São Paulo       170   \n",
       "160                            NaN  Vila Mariana  São Paulo       228   \n",
       "334         Rua Pero Correia, 892   Vila Mariana  São Paulo       350   \n",
       "...                            ...           ...        ...       ...   \n",
       "9645               Rua Sousa Ramos  Vila Mariana  São Paulo       285   \n",
       "9701             Rua Benito Juarez  Vila Mariana  São Paulo       171   \n",
       "9737             Rua Benito Juarez  Vila Mariana  São Paulo       171   \n",
       "9807                           NaN  Vila Mariana  São Paulo       275   \n",
       "9852              Rua França Pinto  Vila Mariana  São Paulo       280   \n",
       "\n",
       "      Quartos  Banheiros  Vagas         Valor  \n",
       "100         3          3      1  R$ 1.350.000  \n",
       "120         3          5      2  R$ 2.450.000  \n",
       "155         3          4      2  R$ 1.490.000  \n",
       "160         4          5      3  R$ 2.200.000  \n",
       "334         6          4     10  R$ 1.700.000  \n",
       "...       ...        ...    ...           ...  \n",
       "9645        3          5      5  R$ 1.650.000  \n",
       "9701        3          2      4  R$ 1.650.000  \n",
       "9737        3          2      4  R$ 1.650.000  \n",
       "9807        3          1      6  R$ 1.500.000  \n",
       "9852        3          3      4  R$ 1.600.000  \n",
       "\n",
       "[184 rows x 8 columns]"
      ]
     },
     "execution_count": 48,
     "metadata": {},
     "output_type": "execute_result"
    }
   ],
   "source": [
    "dados.query(\"Bairro == 'Vila Mariana'\")"
   ]
  },
  {
   "cell_type": "markdown",
   "metadata": {},
   "source": [
    "#### Desafio 03\n",
    "    - Explorar alguns gráficos na documentação e aplicar nas demais colunas do DF, assim como tentar colocar alguma conclusão. (Proposto pelo Thiago)"
   ]
  },
  {
   "cell_type": "code",
   "execution_count": 74,
   "metadata": {},
   "outputs": [
    {
     "data": {
      "text/plain": [
       "<AxesSubplot:ylabel='Bairro'>"
      ]
     },
     "execution_count": 74,
     "metadata": {},
     "output_type": "execute_result"
    },
    {
     "data": {
      "image/png": "[encoded data removed]",
      "text/plain": [
       "<Figure size 432x288 with 1 Axes>"
      ]
     },
     "metadata": {
      "needs_background": "light"
     },
     "output_type": "display_data"
    }
   ],
   "source": [
    "dados.groupby(\"Bairro\")[\"Metragem\"].mean().head(10).plot.barh()"
   ]
  },
  {
   "cell_type": "code",
   "execution_count": 76,
   "metadata": {},
   "outputs": [
    {
     "data": {
      "image/png": "[encoded data removed]",
      "text/plain": [
       "<Figure size 720x360 with 1 Axes>"
      ]
     },
     "metadata": {
      "needs_background": "light"
     },
     "output_type": "display_data"
    }
   ],
   "source": [
    "import matplotlib.pyplot as plt\n",
    "\n",
    "plt.figure(figsize=(10,5))\n",
    "plt.title(\"Quantidade de imóveis por bairro\")\n",
    "dados['Bairro'].value_counts().head(10).plot.bar()\n",
    "plt.xlabel('Bairros')\n",
    "plt.show()"
   ]
  },
  {
   "cell_type": "code",
   "execution_count": 104,
   "metadata": {},
   "outputs": [
    {
     "data": {
      "text/plain": [
       "array([<AxesSubplot:>, <AxesSubplot:>, <AxesSubplot:>, <AxesSubplot:>],\n",
       "      dtype=object)"
      ]
     },
     "execution_count": 104,
     "metadata": {},
     "output_type": "execute_result"
    },
    {
     "data": {
      "image/png": "[encoded data removed]",
      "text/plain": [
       "<Figure size 432x432 with 4 Axes>"
      ]
     },
     "metadata": {
      "needs_background": "light"
     },
     "output_type": "display_data"
    }
   ],
   "source": [
    "dados.head(20).plot(subplots=True, figsize=(6, 6))"
   ]
  },
  {
   "cell_type": "markdown",
   "metadata": {},
   "source": [
    "#### Desafio 04 \n",
    "    - Pegar outras estatísticas dos dados (como média, mediana, mim, max). (Proposto pela Vivian)"
   ]
  },
  {
   "cell_type": "code",
   "execution_count": 105,
   "metadata": {},
   "outputs": [
    {
     "data": {
      "text/html": [
       "<div>\n",
       "<style scoped>\n",
       "    .dataframe tbody tr th:only-of-type {\n",
       "        vertical-align: middle;\n",
       "    }\n",
       "\n",
       "    .dataframe tbody tr th {\n",
       "        vertical-align: top;\n",
       "    }\n",
       "\n",
       "    .dataframe thead th {\n",
       "        text-align: right;\n",
       "    }\n",
       "</style>\n",
       "<table border=\"1\" class=\"dataframe\">\n",
       "  <thead>\n",
       "    <tr style=\"text-align: right;\">\n",
       "      <th></th>\n",
       "      <th>count</th>\n",
       "      <th>mean</th>\n",
       "      <th>std</th>\n",
       "      <th>min</th>\n",
       "      <th>25%</th>\n",
       "      <th>50%</th>\n",
       "      <th>75%</th>\n",
       "      <th>max</th>\n",
       "    </tr>\n",
       "    <tr>\n",
       "      <th>Bairro</th>\n",
       "      <th></th>\n",
       "      <th></th>\n",
       "      <th></th>\n",
       "      <th></th>\n",
       "      <th></th>\n",
       "      <th></th>\n",
       "      <th></th>\n",
       "      <th></th>\n",
       "    </tr>\n",
       "  </thead>\n",
       "  <tbody>\n",
       "    <tr>\n",
       "      <th>Aclimação</th>\n",
       "      <td>88.0</td>\n",
       "      <td>253.056818</td>\n",
       "      <td>159.140245</td>\n",
       "      <td>104.0</td>\n",
       "      <td>165.00</td>\n",
       "      <td>227.5</td>\n",
       "      <td>300.00</td>\n",
       "      <td>1500.0</td>\n",
       "    </tr>\n",
       "    <tr>\n",
       "      <th>Alto da Boa Vista</th>\n",
       "      <td>8.0</td>\n",
       "      <td>418.875000</td>\n",
       "      <td>111.880596</td>\n",
       "      <td>315.0</td>\n",
       "      <td>347.50</td>\n",
       "      <td>378.0</td>\n",
       "      <td>448.75</td>\n",
       "      <td>595.0</td>\n",
       "    </tr>\n",
       "    <tr>\n",
       "      <th>Alto da Lapa</th>\n",
       "      <td>86.0</td>\n",
       "      <td>294.337209</td>\n",
       "      <td>187.674036</td>\n",
       "      <td>46.0</td>\n",
       "      <td>151.25</td>\n",
       "      <td>255.0</td>\n",
       "      <td>363.75</td>\n",
       "      <td>1133.0</td>\n",
       "    </tr>\n",
       "    <tr>\n",
       "      <th>Alto da Mooca</th>\n",
       "      <td>20.0</td>\n",
       "      <td>270.050000</td>\n",
       "      <td>237.306924</td>\n",
       "      <td>84.0</td>\n",
       "      <td>133.75</td>\n",
       "      <td>182.5</td>\n",
       "      <td>221.25</td>\n",
       "      <td>805.0</td>\n",
       "    </tr>\n",
       "    <tr>\n",
       "      <th>Alto de Pinheiros</th>\n",
       "      <td>409.0</td>\n",
       "      <td>433.444988</td>\n",
       "      <td>145.676574</td>\n",
       "      <td>100.0</td>\n",
       "      <td>344.00</td>\n",
       "      <td>412.0</td>\n",
       "      <td>505.00</td>\n",
       "      <td>1530.0</td>\n",
       "    </tr>\n",
       "    <tr>\n",
       "      <th>...</th>\n",
       "      <td>...</td>\n",
       "      <td>...</td>\n",
       "      <td>...</td>\n",
       "      <td>...</td>\n",
       "      <td>...</td>\n",
       "      <td>...</td>\n",
       "      <td>...</td>\n",
       "      <td>...</td>\n",
       "    </tr>\n",
       "    <tr>\n",
       "      <th>Vila Água Funda</th>\n",
       "      <td>5.0</td>\n",
       "      <td>152.200000</td>\n",
       "      <td>44.353128</td>\n",
       "      <td>90.0</td>\n",
       "      <td>138.00</td>\n",
       "      <td>143.0</td>\n",
       "      <td>190.00</td>\n",
       "      <td>200.0</td>\n",
       "    </tr>\n",
       "    <tr>\n",
       "      <th>Água Branca</th>\n",
       "      <td>13.0</td>\n",
       "      <td>191.000000</td>\n",
       "      <td>91.045776</td>\n",
       "      <td>91.0</td>\n",
       "      <td>143.00</td>\n",
       "      <td>174.0</td>\n",
       "      <td>200.00</td>\n",
       "      <td>400.0</td>\n",
       "    </tr>\n",
       "    <tr>\n",
       "      <th>Água Fria</th>\n",
       "      <td>12.0</td>\n",
       "      <td>165.416667</td>\n",
       "      <td>82.934211</td>\n",
       "      <td>60.0</td>\n",
       "      <td>76.25</td>\n",
       "      <td>174.5</td>\n",
       "      <td>210.50</td>\n",
       "      <td>314.0</td>\n",
       "    </tr>\n",
       "    <tr>\n",
       "      <th>Água Funda</th>\n",
       "      <td>2.0</td>\n",
       "      <td>139.000000</td>\n",
       "      <td>19.798990</td>\n",
       "      <td>125.0</td>\n",
       "      <td>132.00</td>\n",
       "      <td>139.0</td>\n",
       "      <td>146.00</td>\n",
       "      <td>153.0</td>\n",
       "    </tr>\n",
       "    <tr>\n",
       "      <th>Água Rasa</th>\n",
       "      <td>8.0</td>\n",
       "      <td>340.250000</td>\n",
       "      <td>294.046036</td>\n",
       "      <td>86.0</td>\n",
       "      <td>172.50</td>\n",
       "      <td>180.0</td>\n",
       "      <td>455.75</td>\n",
       "      <td>805.0</td>\n",
       "    </tr>\n",
       "  </tbody>\n",
       "</table>\n",
       "<p>701 rows × 8 columns</p>\n",
       "</div>"
      ],
      "text/plain": [
       "                   count        mean         std    min     25%    50%  \\\n",
       "Bairro                                                                   \n",
       "Aclimação           88.0  253.056818  159.140245  104.0  165.00  227.5   \n",
       "Alto da Boa Vista    8.0  418.875000  111.880596  315.0  347.50  378.0   \n",
       "Alto da Lapa        86.0  294.337209  187.674036   46.0  151.25  255.0   \n",
       "Alto da Mooca       20.0  270.050000  237.306924   84.0  133.75  182.5   \n",
       "Alto de Pinheiros  409.0  433.444988  145.676574  100.0  344.00  412.0   \n",
       "...                  ...         ...         ...    ...     ...    ...   \n",
       "Vila Água Funda      5.0  152.200000   44.353128   90.0  138.00  143.0   \n",
       "Água Branca         13.0  191.000000   91.045776   91.0  143.00  174.0   \n",
       "Água Fria           12.0  165.416667   82.934211   60.0   76.25  174.5   \n",
       "Água Funda           2.0  139.000000   19.798990  125.0  132.00  139.0   \n",
       "Água Rasa            8.0  340.250000  294.046036   86.0  172.50  180.0   \n",
       "\n",
       "                      75%     max  \n",
       "Bairro                             \n",
       "Aclimação          300.00  1500.0  \n",
       "Alto da Boa Vista  448.75   595.0  \n",
       "Alto da Lapa       363.75  1133.0  \n",
       "Alto da Mooca      221.25   805.0  \n",
       "Alto de Pinheiros  505.00  1530.0  \n",
       "...                   ...     ...  \n",
       "Vila Água Funda    190.00   200.0  \n",
       "Água Branca        200.00   400.0  \n",
       "Água Fria          210.50   314.0  \n",
       "Água Funda         146.00   153.0  \n",
       "Água Rasa          455.75   805.0  \n",
       "\n",
       "[701 rows x 8 columns]"
      ]
     },
     "execution_count": 105,
     "metadata": {},
     "output_type": "execute_result"
    }
   ],
   "source": [
    "dados.groupby(['Bairro'])['Metragem'].describe()"
   ]
  },
  {
   "cell_type": "markdown",
   "metadata": {},
   "source": [
    "#### Desafio 05\n",
    "     - Descobrir quais são os bairros que não tem nome de rua. (Proposto pela Vivian)"
   ]
  },
  {
   "cell_type": "code",
   "execution_count": 106,
   "metadata": {},
   "outputs": [
    {
     "data": {
      "text/plain": [
       "Aclimação             88\n",
       "Alto da Boa Vista      8\n",
       "Alto da Lapa          86\n",
       "Alto da Mooca         20\n",
       "Alto de Pinheiros    409\n",
       "                    ... \n",
       "Vila Água Funda        5\n",
       "Água Branca           13\n",
       "Água Fria             12\n",
       "Água Funda             2\n",
       "Água Rasa              8\n",
       "Name: Bairro, Length: 701, dtype: int64"
      ]
     },
     "execution_count": 106,
     "metadata": {},
     "output_type": "execute_result"
    }
   ],
   "source": [
    "dados['Bairro'].value_counts().sort_index()"
   ]
  },
  {
   "cell_type": "code",
   "execution_count": 119,
   "metadata": {},
   "outputs": [
    {
     "data": {
      "text/html": [
       "<div>\n",
       "<style scoped>\n",
       "    .dataframe tbody tr th:only-of-type {\n",
       "        vertical-align: middle;\n",
       "    }\n",
       "\n",
       "    .dataframe tbody tr th {\n",
       "        vertical-align: top;\n",
       "    }\n",
       "\n",
       "    .dataframe thead th {\n",
       "        text-align: right;\n",
       "    }\n",
       "</style>\n",
       "<table border=\"1\" class=\"dataframe\">\n",
       "  <thead>\n",
       "    <tr style=\"text-align: right;\">\n",
       "      <th></th>\n",
       "      <th>Rua</th>\n",
       "      <th>Bairro</th>\n",
       "      <th>Cidade</th>\n",
       "      <th>Metragem</th>\n",
       "      <th>Quartos</th>\n",
       "      <th>Banheiros</th>\n",
       "      <th>Vagas</th>\n",
       "      <th>Valor</th>\n",
       "    </tr>\n",
       "  </thead>\n",
       "  <tbody>\n",
       "    <tr>\n",
       "      <th>3</th>\n",
       "      <td>NaN</td>\n",
       "      <td>Jardim Morumbi</td>\n",
       "      <td>São Paulo</td>\n",
       "      <td>310</td>\n",
       "      <td>3</td>\n",
       "      <td>2</td>\n",
       "      <td>4</td>\n",
       "      <td>R$ 685.000</td>\n",
       "    </tr>\n",
       "    <tr>\n",
       "      <th>11</th>\n",
       "      <td>NaN</td>\n",
       "      <td>Jardim Luzitânia</td>\n",
       "      <td>São Paulo</td>\n",
       "      <td>436</td>\n",
       "      <td>4</td>\n",
       "      <td>3</td>\n",
       "      <td>3</td>\n",
       "      <td>R$ 15.000</td>\n",
       "    </tr>\n",
       "    <tr>\n",
       "      <th>31</th>\n",
       "      <td>NaN</td>\n",
       "      <td>Parque da Lapa</td>\n",
       "      <td>São Paulo</td>\n",
       "      <td>220</td>\n",
       "      <td>4</td>\n",
       "      <td>4</td>\n",
       "      <td>3</td>\n",
       "      <td>R$ 849.000</td>\n",
       "    </tr>\n",
       "    <tr>\n",
       "      <th>56</th>\n",
       "      <td>NaN</td>\n",
       "      <td>Chácara Santo Antônio (Zona Sul)</td>\n",
       "      <td>São Paulo</td>\n",
       "      <td>190</td>\n",
       "      <td>2</td>\n",
       "      <td>2</td>\n",
       "      <td>2</td>\n",
       "      <td>R$ 1.100.000</td>\n",
       "    </tr>\n",
       "    <tr>\n",
       "      <th>57</th>\n",
       "      <td>NaN</td>\n",
       "      <td>Jardim Guedala</td>\n",
       "      <td>São Paulo</td>\n",
       "      <td>650</td>\n",
       "      <td>4</td>\n",
       "      <td>6</td>\n",
       "      <td>4</td>\n",
       "      <td>R$ 5.500.000</td>\n",
       "    </tr>\n",
       "    <tr>\n",
       "      <th>...</th>\n",
       "      <td>...</td>\n",
       "      <td>...</td>\n",
       "      <td>...</td>\n",
       "      <td>...</td>\n",
       "      <td>...</td>\n",
       "      <td>...</td>\n",
       "      <td>...</td>\n",
       "      <td>...</td>\n",
       "    </tr>\n",
       "    <tr>\n",
       "      <th>9963</th>\n",
       "      <td>NaN</td>\n",
       "      <td>Jardim Petrópolis</td>\n",
       "      <td>São Paulo</td>\n",
       "      <td>423</td>\n",
       "      <td>5</td>\n",
       "      <td>7</td>\n",
       "      <td>6</td>\n",
       "      <td>R$ 2.800.000</td>\n",
       "    </tr>\n",
       "    <tr>\n",
       "      <th>9989</th>\n",
       "      <td>NaN</td>\n",
       "      <td>Parque Alves de Lima</td>\n",
       "      <td>São Paulo</td>\n",
       "      <td>127</td>\n",
       "      <td>2</td>\n",
       "      <td>1</td>\n",
       "      <td>2</td>\n",
       "      <td>R$ 400.000</td>\n",
       "    </tr>\n",
       "    <tr>\n",
       "      <th>9991</th>\n",
       "      <td>NaN</td>\n",
       "      <td>Vila Formosa</td>\n",
       "      <td>São Paulo</td>\n",
       "      <td>145</td>\n",
       "      <td>3</td>\n",
       "      <td>2</td>\n",
       "      <td>3</td>\n",
       "      <td>R$ 750.000</td>\n",
       "    </tr>\n",
       "    <tr>\n",
       "      <th>9995</th>\n",
       "      <td>NaN</td>\n",
       "      <td>Jardim Leonor</td>\n",
       "      <td>São Paulo</td>\n",
       "      <td>1350</td>\n",
       "      <td>5</td>\n",
       "      <td>9</td>\n",
       "      <td>7</td>\n",
       "      <td>R$ 9.500.000</td>\n",
       "    </tr>\n",
       "    <tr>\n",
       "      <th>9999</th>\n",
       "      <td>NaN</td>\n",
       "      <td>Jardim Petrópolis</td>\n",
       "      <td>São Paulo</td>\n",
       "      <td>423</td>\n",
       "      <td>5</td>\n",
       "      <td>7</td>\n",
       "      <td>6</td>\n",
       "      <td>R$ 2.800.000</td>\n",
       "    </tr>\n",
       "  </tbody>\n",
       "</table>\n",
       "<p>3434 rows × 8 columns</p>\n",
       "</div>"
      ],
      "text/plain": [
       "      Rua                            Bairro     Cidade  Metragem  Quartos  \\\n",
       "3     NaN                    Jardim Morumbi  São Paulo       310        3   \n",
       "11    NaN                  Jardim Luzitânia  São Paulo       436        4   \n",
       "31    NaN                    Parque da Lapa  São Paulo       220        4   \n",
       "56    NaN  Chácara Santo Antônio (Zona Sul)  São Paulo       190        2   \n",
       "57    NaN                    Jardim Guedala  São Paulo       650        4   \n",
       "...   ...                               ...        ...       ...      ...   \n",
       "9963  NaN                 Jardim Petrópolis  São Paulo       423        5   \n",
       "9989  NaN              Parque Alves de Lima  São Paulo       127        2   \n",
       "9991  NaN                      Vila Formosa  São Paulo       145        3   \n",
       "9995  NaN                     Jardim Leonor  São Paulo      1350        5   \n",
       "9999  NaN                 Jardim Petrópolis  São Paulo       423        5   \n",
       "\n",
       "      Banheiros  Vagas         Valor  \n",
       "3             2      4    R$ 685.000  \n",
       "11            3      3     R$ 15.000  \n",
       "31            4      3    R$ 849.000  \n",
       "56            2      2  R$ 1.100.000  \n",
       "57            6      4  R$ 5.500.000  \n",
       "...         ...    ...           ...  \n",
       "9963          7      6  R$ 2.800.000  \n",
       "9989          1      2    R$ 400.000  \n",
       "9991          2      3    R$ 750.000  \n",
       "9995          9      7  R$ 9.500.000  \n",
       "9999          7      6  R$ 2.800.000  \n",
       "\n",
       "[3434 rows x 8 columns]"
      ]
     },
     "execution_count": 119,
     "metadata": {},
     "output_type": "execute_result"
    }
   ],
   "source": [
    "sem_rua = dados[dados['Rua'].isnull()]\n",
    "sem_rua"
   ]
  },
  {
   "cell_type": "code",
   "execution_count": 121,
   "metadata": {},
   "outputs": [
    {
     "data": {
      "text/plain": [
       "Aclimação              2\n",
       "Alto da Boa Vista      1\n",
       "Alto da Lapa          29\n",
       "Alto da Mooca          5\n",
       "Alto de Pinheiros    169\n",
       "                    ... \n",
       "Vila do Encontro       3\n",
       "Água Branca            2\n",
       "Água Fria              1\n",
       "Água Funda             2\n",
       "Água Rasa              3\n",
       "Name: Bairro, Length: 394, dtype: int64"
      ]
     },
     "execution_count": 121,
     "metadata": {},
     "output_type": "execute_result"
    }
   ],
   "source": [
    "ruas_sem_nome = sem_rua['Bairro'].value_counts().sort_index()\n",
    "ruas_sem_nome"
   ]
  }
 ],
 "metadata": {
  "interpreter": {
   "hash": "97cc609b13305c559618ec78a438abc56230b9381f827f22d070313b9a1f3777"
  },
  "kernelspec": {
   "display_name": "Python 3.10.2 64-bit",
   "language": "python",
   "name": "python3"
  },
  "language_info": {
   "codemirror_mode": {
    "name": "ipython",
    "version": 3
   },
   "file_extension": ".py",
   "mimetype": "text/x-python",
   "name": "python",
   "nbconvert_exporter": "python",
   "pygments_lexer": "ipython3",
   "version": "3.10.4"
  },
  "orig_nbformat": 4
 },
 "nbformat": 4,
 "nbformat_minor": 2
}
