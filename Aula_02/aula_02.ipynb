{
 "cells": [
  {
   "cell_type": "markdown",
   "id": "4c2844f8",
   "metadata": {},
   "source": [
    "# Imersão Dados → Aula 02 "
   ]
  },
  {
   "cell_type": "markdown",
   "id": "bac5e908",
   "metadata": {},
   "source": [
    "<a href=\"#desafios02\">Desafios - Aula 02</a> "
   ]
  },
  {
   "cell_type": "markdown",
   "id": "66d8b108",
   "metadata": {},
   "source": [
    "#### Biblioteca Pandas (=> https://pandas.pydata.org/ )"
   ]
  },
  {
   "cell_type": "code",
   "execution_count": null,
   "id": "e2cefb63",
   "metadata": {},
   "outputs": [],
   "source": [
    "pip install pandas "
   ]
  },
  {
   "cell_type": "code",
   "execution_count": null,
   "id": "b01b8200",
   "metadata": {},
   "outputs": [],
   "source": [
    "pip install seaborn"
   ]
  },
  {
   "cell_type": "code",
   "execution_count": 4,
   "id": "fa84517b",
   "metadata": {},
   "outputs": [
    {
     "data": {
      "text/plain": [
       "'1.4.2'"
      ]
     },
     "execution_count": 4,
     "metadata": {},
     "output_type": "execute_result"
    }
   ],
   "source": [
    "import pandas as pd\n",
    "pd.__version__"
   ]
  },
  {
   "cell_type": "code",
   "execution_count": 5,
   "id": "5b7db551",
   "metadata": {},
   "outputs": [
    {
     "data": {
      "text/plain": [
       "'0.11.2'"
      ]
     },
     "execution_count": 5,
     "metadata": {},
     "output_type": "execute_result"
    }
   ],
   "source": [
    "import seaborn as sns\n",
    "sns.__version__"
   ]
  },
  {
   "cell_type": "markdown",
   "id": "7c910e89",
   "metadata": {},
   "source": [
    "##### Dataset  \n",
    "    - importação dos dados do arquivo csv.\n",
    "    - visualização uma pequena amostra do DataFrame, usando o método head(). O número padrão de elementos a serem exibidos é cinco, mas você pode passar um número personalizado."
   ]
  },
  {
   "cell_type": "code",
   "execution_count": 6,
   "id": "5d86685a",
   "metadata": {},
   "outputs": [
    {
     "data": {
      "text/html": [
       "<div>\n",
       "<style scoped>\n",
       "    .dataframe tbody tr th:only-of-type {\n",
       "        vertical-align: middle;\n",
       "    }\n",
       "\n",
       "    .dataframe tbody tr th {\n",
       "        vertical-align: top;\n",
       "    }\n",
       "\n",
       "    .dataframe thead th {\n",
       "        text-align: right;\n",
       "    }\n",
       "</style>\n",
       "<table border=\"1\" class=\"dataframe\">\n",
       "  <thead>\n",
       "    <tr style=\"text-align: right;\">\n",
       "      <th></th>\n",
       "      <th>Rua</th>\n",
       "      <th>Bairro</th>\n",
       "      <th>Cidade</th>\n",
       "      <th>Metragem</th>\n",
       "      <th>Quartos</th>\n",
       "      <th>Banheiros</th>\n",
       "      <th>Vagas</th>\n",
       "      <th>Valor</th>\n",
       "    </tr>\n",
       "  </thead>\n",
       "  <tbody>\n",
       "    <tr>\n",
       "      <th>0</th>\n",
       "      <td>Avenida Itacira, 255</td>\n",
       "      <td>Planalto Paulista</td>\n",
       "      <td>São Paulo</td>\n",
       "      <td>1000</td>\n",
       "      <td>4</td>\n",
       "      <td>8</td>\n",
       "      <td>6</td>\n",
       "      <td>R$ 7.000.000</td>\n",
       "    </tr>\n",
       "    <tr>\n",
       "      <th>1</th>\n",
       "      <td>Rua Aurelia Perez Alvarez, 42</td>\n",
       "      <td>Jardim dos Estados</td>\n",
       "      <td>São Paulo</td>\n",
       "      <td>496</td>\n",
       "      <td>4</td>\n",
       "      <td>4</td>\n",
       "      <td>4</td>\n",
       "      <td>R$ 3.700.000</td>\n",
       "    </tr>\n",
       "    <tr>\n",
       "      <th>2</th>\n",
       "      <td>Rua Alba Valdez</td>\n",
       "      <td>Jardim Reimberg</td>\n",
       "      <td>São Paulo</td>\n",
       "      <td>125</td>\n",
       "      <td>4</td>\n",
       "      <td>3</td>\n",
       "      <td>2</td>\n",
       "      <td>R$ 380.000</td>\n",
       "    </tr>\n",
       "    <tr>\n",
       "      <th>3</th>\n",
       "      <td>NaN</td>\n",
       "      <td>Jardim Morumbi</td>\n",
       "      <td>São Paulo</td>\n",
       "      <td>310</td>\n",
       "      <td>3</td>\n",
       "      <td>2</td>\n",
       "      <td>4</td>\n",
       "      <td>R$ 685.000</td>\n",
       "    </tr>\n",
       "    <tr>\n",
       "      <th>4</th>\n",
       "      <td>Rua Tobias Barreto, 195</td>\n",
       "      <td>Mooca</td>\n",
       "      <td>São Paulo</td>\n",
       "      <td>100</td>\n",
       "      <td>3</td>\n",
       "      <td>2</td>\n",
       "      <td>2</td>\n",
       "      <td>R$ 540.000</td>\n",
       "    </tr>\n",
       "  </tbody>\n",
       "</table>\n",
       "</div>"
      ],
      "text/plain": [
       "                              Rua              Bairro     Cidade  Metragem  \\\n",
       "0           Avenida Itacira, 255    Planalto Paulista  São Paulo      1000   \n",
       "1  Rua Aurelia Perez Alvarez, 42   Jardim dos Estados  São Paulo       496   \n",
       "2                 Rua Alba Valdez     Jardim Reimberg  São Paulo       125   \n",
       "3                             NaN      Jardim Morumbi  São Paulo       310   \n",
       "4        Rua Tobias Barreto, 195                Mooca  São Paulo       100   \n",
       "\n",
       "   Quartos  Banheiros  Vagas         Valor  \n",
       "0        4          8      6  R$ 7.000.000  \n",
       "1        4          4      4  R$ 3.700.000  \n",
       "2        4          3      2    R$ 380.000  \n",
       "3        3          2      4    R$ 685.000  \n",
       "4        3          2      2    R$ 540.000  "
      ]
     },
     "execution_count": 6,
     "metadata": {},
     "output_type": "execute_result"
    }
   ],
   "source": [
    "caminho = \"../Data/dados_imoveis.csv\"\n",
    "dados = pd.read_csv(caminho)\n",
    "\n",
    "dados.head()"
   ]
  },
  {
   "cell_type": "markdown",
   "id": "190a78d6",
   "metadata": {},
   "source": [
    "##### Quantidade de dados na tabela completa."
   ]
  },
  {
   "cell_type": "code",
   "execution_count": 7,
   "id": "95410a03",
   "metadata": {},
   "outputs": [
    {
     "data": {
      "text/html": [
       "<div>\n",
       "<style scoped>\n",
       "    .dataframe tbody tr th:only-of-type {\n",
       "        vertical-align: middle;\n",
       "    }\n",
       "\n",
       "    .dataframe tbody tr th {\n",
       "        vertical-align: top;\n",
       "    }\n",
       "\n",
       "    .dataframe thead th {\n",
       "        text-align: right;\n",
       "    }\n",
       "</style>\n",
       "<table border=\"1\" class=\"dataframe\">\n",
       "  <thead>\n",
       "    <tr style=\"text-align: right;\">\n",
       "      <th></th>\n",
       "      <th>Rua</th>\n",
       "      <th>Bairro</th>\n",
       "      <th>Cidade</th>\n",
       "      <th>Metragem</th>\n",
       "      <th>Quartos</th>\n",
       "      <th>Banheiros</th>\n",
       "      <th>Vagas</th>\n",
       "      <th>Valor</th>\n",
       "    </tr>\n",
       "  </thead>\n",
       "  <tbody>\n",
       "    <tr>\n",
       "      <th>0</th>\n",
       "      <td>Avenida Itacira, 255</td>\n",
       "      <td>Planalto Paulista</td>\n",
       "      <td>São Paulo</td>\n",
       "      <td>1000</td>\n",
       "      <td>4</td>\n",
       "      <td>8</td>\n",
       "      <td>6</td>\n",
       "      <td>R$ 7.000.000</td>\n",
       "    </tr>\n",
       "    <tr>\n",
       "      <th>1</th>\n",
       "      <td>Rua Aurelia Perez Alvarez, 42</td>\n",
       "      <td>Jardim dos Estados</td>\n",
       "      <td>São Paulo</td>\n",
       "      <td>496</td>\n",
       "      <td>4</td>\n",
       "      <td>4</td>\n",
       "      <td>4</td>\n",
       "      <td>R$ 3.700.000</td>\n",
       "    </tr>\n",
       "    <tr>\n",
       "      <th>2</th>\n",
       "      <td>Rua Alba Valdez</td>\n",
       "      <td>Jardim Reimberg</td>\n",
       "      <td>São Paulo</td>\n",
       "      <td>125</td>\n",
       "      <td>4</td>\n",
       "      <td>3</td>\n",
       "      <td>2</td>\n",
       "      <td>R$ 380.000</td>\n",
       "    </tr>\n",
       "    <tr>\n",
       "      <th>3</th>\n",
       "      <td>NaN</td>\n",
       "      <td>Jardim Morumbi</td>\n",
       "      <td>São Paulo</td>\n",
       "      <td>310</td>\n",
       "      <td>3</td>\n",
       "      <td>2</td>\n",
       "      <td>4</td>\n",
       "      <td>R$ 685.000</td>\n",
       "    </tr>\n",
       "    <tr>\n",
       "      <th>4</th>\n",
       "      <td>Rua Tobias Barreto, 195</td>\n",
       "      <td>Mooca</td>\n",
       "      <td>São Paulo</td>\n",
       "      <td>100</td>\n",
       "      <td>3</td>\n",
       "      <td>2</td>\n",
       "      <td>2</td>\n",
       "      <td>R$ 540.000</td>\n",
       "    </tr>\n",
       "    <tr>\n",
       "      <th>...</th>\n",
       "      <td>...</td>\n",
       "      <td>...</td>\n",
       "      <td>...</td>\n",
       "      <td>...</td>\n",
       "      <td>...</td>\n",
       "      <td>...</td>\n",
       "      <td>...</td>\n",
       "      <td>...</td>\n",
       "    </tr>\n",
       "    <tr>\n",
       "      <th>10003</th>\n",
       "      <td>Rua Tapuçu</td>\n",
       "      <td>Vila Sofia</td>\n",
       "      <td>São Paulo</td>\n",
       "      <td>95</td>\n",
       "      <td>2</td>\n",
       "      <td>2</td>\n",
       "      <td>2</td>\n",
       "      <td>R$ 665.000</td>\n",
       "    </tr>\n",
       "    <tr>\n",
       "      <th>10004</th>\n",
       "      <td>Rua Guararema</td>\n",
       "      <td>Bosque da Saúde</td>\n",
       "      <td>São Paulo</td>\n",
       "      <td>605</td>\n",
       "      <td>8</td>\n",
       "      <td>7</td>\n",
       "      <td>5</td>\n",
       "      <td>R$ 2.300.000</td>\n",
       "    </tr>\n",
       "    <tr>\n",
       "      <th>10005</th>\n",
       "      <td>Rua Estero Belaco</td>\n",
       "      <td>Vila da Saúde</td>\n",
       "      <td>São Paulo</td>\n",
       "      <td>205</td>\n",
       "      <td>3</td>\n",
       "      <td>3</td>\n",
       "      <td>6</td>\n",
       "      <td>R$ 1.050.000</td>\n",
       "    </tr>\n",
       "    <tr>\n",
       "      <th>10006</th>\n",
       "      <td>Rua Manuel Onha, , 514</td>\n",
       "      <td>Vila Oratório</td>\n",
       "      <td>São Paulo</td>\n",
       "      <td>185</td>\n",
       "      <td>3</td>\n",
       "      <td>2</td>\n",
       "      <td>2</td>\n",
       "      <td>R$ 2.200\\n                      /Mês</td>\n",
       "    </tr>\n",
       "    <tr>\n",
       "      <th>10007</th>\n",
       "      <td>Rua Barão de Tramandaí, 0</td>\n",
       "      <td>Vila Alpina</td>\n",
       "      <td>São Paulo</td>\n",
       "      <td>122</td>\n",
       "      <td>3</td>\n",
       "      <td>2</td>\n",
       "      <td>2</td>\n",
       "      <td>R$ 270.000</td>\n",
       "    </tr>\n",
       "  </tbody>\n",
       "</table>\n",
       "<p>10008 rows × 8 columns</p>\n",
       "</div>"
      ],
      "text/plain": [
       "                                  Rua              Bairro     Cidade  \\\n",
       "0               Avenida Itacira, 255    Planalto Paulista  São Paulo   \n",
       "1      Rua Aurelia Perez Alvarez, 42   Jardim dos Estados  São Paulo   \n",
       "2                     Rua Alba Valdez     Jardim Reimberg  São Paulo   \n",
       "3                                 NaN      Jardim Morumbi  São Paulo   \n",
       "4            Rua Tobias Barreto, 195                Mooca  São Paulo   \n",
       "...                               ...                 ...        ...   \n",
       "10003                      Rua Tapuçu          Vila Sofia  São Paulo   \n",
       "10004                   Rua Guararema     Bosque da Saúde  São Paulo   \n",
       "10005               Rua Estero Belaco       Vila da Saúde  São Paulo   \n",
       "10006         Rua Manuel Onha, , 514        Vila Oratório  São Paulo   \n",
       "10007      Rua Barão de Tramandaí, 0          Vila Alpina  São Paulo   \n",
       "\n",
       "       Metragem  Quartos  Banheiros  Vagas  \\\n",
       "0          1000        4          8      6   \n",
       "1           496        4          4      4   \n",
       "2           125        4          3      2   \n",
       "3           310        3          2      4   \n",
       "4           100        3          2      2   \n",
       "...         ...      ...        ...    ...   \n",
       "10003        95        2          2      2   \n",
       "10004       605        8          7      5   \n",
       "10005       205        3          3      6   \n",
       "10006       185        3          2      2   \n",
       "10007       122        3          2      2   \n",
       "\n",
       "                                      Valor  \n",
       "0                              R$ 7.000.000  \n",
       "1                              R$ 3.700.000  \n",
       "2                                R$ 380.000  \n",
       "3                                R$ 685.000  \n",
       "4                                R$ 540.000  \n",
       "...                                     ...  \n",
       "10003                            R$ 665.000  \n",
       "10004                          R$ 2.300.000  \n",
       "10005                          R$ 1.050.000  \n",
       "10006  R$ 2.200\\n                      /Mês  \n",
       "10007                            R$ 270.000  \n",
       "\n",
       "[10008 rows x 8 columns]"
      ]
     },
     "execution_count": 7,
     "metadata": {},
     "output_type": "execute_result"
    }
   ],
   "source": [
    "dados"
   ]
  },
  {
   "cell_type": "markdown",
   "id": "e464c034",
   "metadata": {},
   "source": [
    "→ Buscando uma amostra de valores da tabela de forma aleatória."
   ]
  },
  {
   "cell_type": "code",
   "execution_count": 8,
   "id": "291efe48",
   "metadata": {},
   "outputs": [
    {
     "data": {
      "text/html": [
       "<div>\n",
       "<style scoped>\n",
       "    .dataframe tbody tr th:only-of-type {\n",
       "        vertical-align: middle;\n",
       "    }\n",
       "\n",
       "    .dataframe tbody tr th {\n",
       "        vertical-align: top;\n",
       "    }\n",
       "\n",
       "    .dataframe thead th {\n",
       "        text-align: right;\n",
       "    }\n",
       "</style>\n",
       "<table border=\"1\" class=\"dataframe\">\n",
       "  <thead>\n",
       "    <tr style=\"text-align: right;\">\n",
       "      <th></th>\n",
       "      <th>Rua</th>\n",
       "      <th>Bairro</th>\n",
       "      <th>Cidade</th>\n",
       "      <th>Metragem</th>\n",
       "      <th>Quartos</th>\n",
       "      <th>Banheiros</th>\n",
       "      <th>Vagas</th>\n",
       "      <th>Valor</th>\n",
       "    </tr>\n",
       "  </thead>\n",
       "  <tbody>\n",
       "    <tr>\n",
       "      <th>4414</th>\n",
       "      <td>Rua Joinville</td>\n",
       "      <td>Vila Mariana</td>\n",
       "      <td>São Paulo</td>\n",
       "      <td>147</td>\n",
       "      <td>3</td>\n",
       "      <td>3</td>\n",
       "      <td>1</td>\n",
       "      <td>R$ 1.600.000</td>\n",
       "    </tr>\n",
       "  </tbody>\n",
       "</table>\n",
       "</div>"
      ],
      "text/plain": [
       "                Rua        Bairro     Cidade  Metragem  Quartos  Banheiros  \\\n",
       "4414  Rua Joinville  Vila Mariana  São Paulo       147        3          3   \n",
       "\n",
       "      Vagas         Valor  \n",
       "4414      1  R$ 1.600.000  "
      ]
     },
     "execution_count": 8,
     "metadata": {},
     "output_type": "execute_result"
    }
   ],
   "source": [
    "dados.sample()"
   ]
  },
  {
   "cell_type": "code",
   "execution_count": 9,
   "id": "bd244afe",
   "metadata": {},
   "outputs": [
    {
     "data": {
      "text/html": [
       "<div>\n",
       "<style scoped>\n",
       "    .dataframe tbody tr th:only-of-type {\n",
       "        vertical-align: middle;\n",
       "    }\n",
       "\n",
       "    .dataframe tbody tr th {\n",
       "        vertical-align: top;\n",
       "    }\n",
       "\n",
       "    .dataframe thead th {\n",
       "        text-align: right;\n",
       "    }\n",
       "</style>\n",
       "<table border=\"1\" class=\"dataframe\">\n",
       "  <thead>\n",
       "    <tr style=\"text-align: right;\">\n",
       "      <th></th>\n",
       "      <th>Rua</th>\n",
       "      <th>Bairro</th>\n",
       "      <th>Cidade</th>\n",
       "      <th>Metragem</th>\n",
       "      <th>Quartos</th>\n",
       "      <th>Banheiros</th>\n",
       "      <th>Vagas</th>\n",
       "      <th>Valor</th>\n",
       "    </tr>\n",
       "  </thead>\n",
       "  <tbody>\n",
       "    <tr>\n",
       "      <th>6142</th>\n",
       "      <td>NaN</td>\n",
       "      <td>Pinheiros</td>\n",
       "      <td>São Paulo</td>\n",
       "      <td>500</td>\n",
       "      <td>4</td>\n",
       "      <td>6</td>\n",
       "      <td>5</td>\n",
       "      <td>R$ 9.500.000</td>\n",
       "    </tr>\n",
       "    <tr>\n",
       "      <th>6760</th>\n",
       "      <td>NaN</td>\n",
       "      <td>Cidade Jardim</td>\n",
       "      <td>São Paulo</td>\n",
       "      <td>1895</td>\n",
       "      <td>5</td>\n",
       "      <td>8</td>\n",
       "      <td>10</td>\n",
       "      <td>R$ 25.000.000</td>\n",
       "    </tr>\n",
       "    <tr>\n",
       "      <th>2033</th>\n",
       "      <td>Rua Dom Lúcio de Sousa</td>\n",
       "      <td>Vila Gumercindo</td>\n",
       "      <td>São Paulo</td>\n",
       "      <td>567</td>\n",
       "      <td>3</td>\n",
       "      <td>2</td>\n",
       "      <td>5</td>\n",
       "      <td>R$ 2.500.000</td>\n",
       "    </tr>\n",
       "    <tr>\n",
       "      <th>8216</th>\n",
       "      <td>NaN</td>\n",
       "      <td>Saúde</td>\n",
       "      <td>São Paulo</td>\n",
       "      <td>170</td>\n",
       "      <td>4</td>\n",
       "      <td>4</td>\n",
       "      <td>2</td>\n",
       "      <td>R$ 1.249.000</td>\n",
       "    </tr>\n",
       "    <tr>\n",
       "      <th>2651</th>\n",
       "      <td>Rua Doutor Carlos Norberto de Souza Aranha</td>\n",
       "      <td>Alto de Pinheiros</td>\n",
       "      <td>São Paulo</td>\n",
       "      <td>379</td>\n",
       "      <td>4</td>\n",
       "      <td>6</td>\n",
       "      <td>5</td>\n",
       "      <td>R$ 4.787.000</td>\n",
       "    </tr>\n",
       "    <tr>\n",
       "      <th>1531</th>\n",
       "      <td>Rua Iraci</td>\n",
       "      <td>Jardim Paulistano</td>\n",
       "      <td>São Paulo</td>\n",
       "      <td>375</td>\n",
       "      <td>4</td>\n",
       "      <td>3</td>\n",
       "      <td>4</td>\n",
       "      <td>R$ 3.600.000</td>\n",
       "    </tr>\n",
       "    <tr>\n",
       "      <th>9203</th>\n",
       "      <td>Rua Padre Luís Soriano</td>\n",
       "      <td>Jardim da Glória</td>\n",
       "      <td>São Paulo</td>\n",
       "      <td>200</td>\n",
       "      <td>3</td>\n",
       "      <td>1</td>\n",
       "      <td>2</td>\n",
       "      <td>R$ 960.000</td>\n",
       "    </tr>\n",
       "    <tr>\n",
       "      <th>8047</th>\n",
       "      <td>Rua Barajuba</td>\n",
       "      <td>Alto de Pinheiros</td>\n",
       "      <td>São Paulo</td>\n",
       "      <td>350</td>\n",
       "      <td>4</td>\n",
       "      <td>6</td>\n",
       "      <td>4</td>\n",
       "      <td>R$ 15.500\\n                      /Mês</td>\n",
       "    </tr>\n",
       "    <tr>\n",
       "      <th>8810</th>\n",
       "      <td>NaN</td>\n",
       "      <td>Caxingui</td>\n",
       "      <td>São Paulo</td>\n",
       "      <td>405</td>\n",
       "      <td>3</td>\n",
       "      <td>4</td>\n",
       "      <td>4</td>\n",
       "      <td>R$ 2.197.000</td>\n",
       "    </tr>\n",
       "    <tr>\n",
       "      <th>8801</th>\n",
       "      <td>Rua José Galdino da Silva</td>\n",
       "      <td>Interlagos</td>\n",
       "      <td>São Paulo</td>\n",
       "      <td>242</td>\n",
       "      <td>3</td>\n",
       "      <td>5</td>\n",
       "      <td>8</td>\n",
       "      <td>R$ 1.200.000</td>\n",
       "    </tr>\n",
       "  </tbody>\n",
       "</table>\n",
       "</div>"
      ],
      "text/plain": [
       "                                             Rua             Bairro  \\\n",
       "6142                                         NaN          Pinheiros   \n",
       "6760                                         NaN      Cidade Jardim   \n",
       "2033                      Rua Dom Lúcio de Sousa    Vila Gumercindo   \n",
       "8216                                         NaN              Saúde   \n",
       "2651  Rua Doutor Carlos Norberto de Souza Aranha  Alto de Pinheiros   \n",
       "1531                                   Rua Iraci  Jardim Paulistano   \n",
       "9203                      Rua Padre Luís Soriano   Jardim da Glória   \n",
       "8047                                Rua Barajuba  Alto de Pinheiros   \n",
       "8810                                         NaN           Caxingui   \n",
       "8801                   Rua José Galdino da Silva         Interlagos   \n",
       "\n",
       "         Cidade  Metragem  Quartos  Banheiros  Vagas  \\\n",
       "6142  São Paulo       500        4          6      5   \n",
       "6760  São Paulo      1895        5          8     10   \n",
       "2033  São Paulo       567        3          2      5   \n",
       "8216  São Paulo       170        4          4      2   \n",
       "2651  São Paulo       379        4          6      5   \n",
       "1531  São Paulo       375        4          3      4   \n",
       "9203  São Paulo       200        3          1      2   \n",
       "8047  São Paulo       350        4          6      4   \n",
       "8810  São Paulo       405        3          4      4   \n",
       "8801  São Paulo       242        3          5      8   \n",
       "\n",
       "                                      Valor  \n",
       "6142                           R$ 9.500.000  \n",
       "6760                          R$ 25.000.000  \n",
       "2033                           R$ 2.500.000  \n",
       "8216                           R$ 1.249.000  \n",
       "2651                           R$ 4.787.000  \n",
       "1531                           R$ 3.600.000  \n",
       "9203                             R$ 960.000  \n",
       "8047  R$ 15.500\\n                      /Mês  \n",
       "8810                           R$ 2.197.000  \n",
       "8801                           R$ 1.200.000  "
      ]
     },
     "execution_count": 9,
     "metadata": {},
     "output_type": "execute_result"
    }
   ],
   "source": [
    "dados.sample(10)"
   ]
  },
  {
   "cell_type": "code",
   "execution_count": 10,
   "id": "f040163d",
   "metadata": {},
   "outputs": [
    {
     "data": {
      "text/plain": [
       "pandas.core.frame.DataFrame"
      ]
     },
     "execution_count": 10,
     "metadata": {},
     "output_type": "execute_result"
    }
   ],
   "source": [
    "type(dados)"
   ]
  },
  {
   "cell_type": "markdown",
   "id": "e68fcdd5",
   "metadata": {},
   "source": [
    "##### Especificando a busca de dados da coluna \"Bairro\""
   ]
  },
  {
   "cell_type": "code",
   "execution_count": 11,
   "id": "29a7866a",
   "metadata": {},
   "outputs": [
    {
     "data": {
      "text/plain": [
       "0         Planalto Paulista\n",
       "1        Jardim dos Estados\n",
       "2           Jardim Reimberg\n",
       "3            Jardim Morumbi\n",
       "4                     Mooca\n",
       "                ...        \n",
       "10003            Vila Sofia\n",
       "10004       Bosque da Saúde\n",
       "10005         Vila da Saúde\n",
       "10006         Vila Oratório\n",
       "10007           Vila Alpina\n",
       "Name: Bairro, Length: 10008, dtype: object"
      ]
     },
     "execution_count": 11,
     "metadata": {},
     "output_type": "execute_result"
    }
   ],
   "source": [
    "dados[\"Bairro\"]"
   ]
  },
  {
   "cell_type": "code",
   "execution_count": 12,
   "id": "bf30a76c",
   "metadata": {},
   "outputs": [
    {
     "data": {
      "text/plain": [
       "'Vila Paulo Silas'"
      ]
     },
     "execution_count": 12,
     "metadata": {},
     "output_type": "execute_result"
    }
   ],
   "source": [
    "dados[\"Bairro\"][6522]"
   ]
  },
  {
   "cell_type": "markdown",
   "id": "554e305c",
   "metadata": {},
   "source": [
    "→ Quantidade de dados por coluna, não nulos e tipo de dados."
   ]
  },
  {
   "cell_type": "code",
   "execution_count": 13,
   "id": "18bfded4",
   "metadata": {},
   "outputs": [
    {
     "name": "stdout",
     "output_type": "stream",
     "text": [
      "<class 'pandas.core.frame.DataFrame'>\n",
      "RangeIndex: 10008 entries, 0 to 10007\n",
      "Data columns (total 8 columns):\n",
      " #   Column     Non-Null Count  Dtype \n",
      "---  ------     --------------  ----- \n",
      " 0   Rua        6574 non-null   object\n",
      " 1   Bairro     9996 non-null   object\n",
      " 2   Cidade     10008 non-null  object\n",
      " 3   Metragem   10008 non-null  int64 \n",
      " 4   Quartos    10008 non-null  int64 \n",
      " 5   Banheiros  10008 non-null  int64 \n",
      " 6   Vagas      10008 non-null  int64 \n",
      " 7   Valor      10008 non-null  object\n",
      "dtypes: int64(4), object(4)\n",
      "memory usage: 625.6+ KB\n"
     ]
    }
   ],
   "source": [
    "dados.info()"
   ]
  },
  {
   "cell_type": "code",
   "execution_count": 14,
   "id": "69bce536",
   "metadata": {},
   "outputs": [
    {
     "data": {
      "text/plain": [
       "0        1000\n",
       "1         496\n",
       "2         125\n",
       "3         310\n",
       "4         100\n",
       "         ... \n",
       "10003      95\n",
       "10004     605\n",
       "10005     205\n",
       "10006     185\n",
       "10007     122\n",
       "Name: Metragem, Length: 10008, dtype: int64"
      ]
     },
     "execution_count": 14,
     "metadata": {},
     "output_type": "execute_result"
    }
   ],
   "source": [
    "dados.Metragem"
   ]
  },
  {
   "cell_type": "markdown",
   "id": "a0c2727b",
   "metadata": {},
   "source": [
    "##### Média da metragem da nossa base de dados\n",
    "    - Mediana entre os dados relacionados a metragem de cada imóvel. OBS.: A metragem é relativa, pode não ser tão específica. Para isso temos analisar mais afundo os dado para não termos discrepâncias;\n",
    "    - Duas maneiras diferentes de buscar dados, com um ponto e a Coluna desejada ou com [\"Coluna entre parenteses\"]."
   ]
  },
  {
   "cell_type": "code",
   "execution_count": 15,
   "id": "e7806026",
   "metadata": {},
   "outputs": [
    {
     "data": {
      "text/plain": [
       "442.30065947242207"
      ]
     },
     "execution_count": 15,
     "metadata": {},
     "output_type": "execute_result"
    }
   ],
   "source": [
    "dados.Metragem.mean()"
   ]
  },
  {
   "cell_type": "code",
   "execution_count": 16,
   "id": "303f04b3",
   "metadata": {},
   "outputs": [
    {
     "data": {
      "text/plain": [
       "442.30065947242207"
      ]
     },
     "execution_count": 16,
     "metadata": {},
     "output_type": "execute_result"
    }
   ],
   "source": [
    "dados[\"Metragem\"].mean()"
   ]
  },
  {
   "cell_type": "code",
   "execution_count": 17,
   "id": "7f1b6757",
   "metadata": {},
   "outputs": [
    {
     "data": {
      "text/plain": [
       "184"
      ]
     },
     "execution_count": 17,
     "metadata": {},
     "output_type": "execute_result"
    }
   ],
   "source": [
    "sum(dados[\"Bairro\"] == \"Vila Mariana\")"
   ]
  },
  {
   "cell_type": "markdown",
   "id": "b54f2cb9",
   "metadata": {},
   "source": [
    "##### Aprofundando nas buscas\n",
    "    - Vamos especificar nossas buscas para trazer dados por um determinado bairro;\n",
    "    - Depois vamos mostrar somente os dados de um dos bairros da base de dados."
   ]
  },
  {
   "cell_type": "code",
   "execution_count": 18,
   "id": "ce6e9d69",
   "metadata": {},
   "outputs": [
    {
     "data": {
      "text/plain": [
       "0        False\n",
       "1        False\n",
       "2        False\n",
       "3        False\n",
       "4        False\n",
       "         ...  \n",
       "10003    False\n",
       "10004    False\n",
       "10005    False\n",
       "10006    False\n",
       "10007    False\n",
       "Name: Bairro, Length: 10008, dtype: bool"
      ]
     },
     "execution_count": 18,
     "metadata": {},
     "output_type": "execute_result"
    }
   ],
   "source": [
    "tem_imoveis_vila_mar = (dados[\"Bairro\"] == \"Vila Mariana\")\n",
    "tem_imoveis_vila_mar"
   ]
  },
  {
   "cell_type": "code",
   "execution_count": 19,
   "id": "cb3f5c5f",
   "metadata": {},
   "outputs": [
    {
     "data": {
      "text/html": [
       "<div>\n",
       "<style scoped>\n",
       "    .dataframe tbody tr th:only-of-type {\n",
       "        vertical-align: middle;\n",
       "    }\n",
       "\n",
       "    .dataframe tbody tr th {\n",
       "        vertical-align: top;\n",
       "    }\n",
       "\n",
       "    .dataframe thead th {\n",
       "        text-align: right;\n",
       "    }\n",
       "</style>\n",
       "<table border=\"1\" class=\"dataframe\">\n",
       "  <thead>\n",
       "    <tr style=\"text-align: right;\">\n",
       "      <th></th>\n",
       "      <th>Rua</th>\n",
       "      <th>Bairro</th>\n",
       "      <th>Cidade</th>\n",
       "      <th>Metragem</th>\n",
       "      <th>Quartos</th>\n",
       "      <th>Banheiros</th>\n",
       "      <th>Vagas</th>\n",
       "      <th>Valor</th>\n",
       "    </tr>\n",
       "  </thead>\n",
       "  <tbody>\n",
       "    <tr>\n",
       "      <th>100</th>\n",
       "      <td>Rua Pero Correia</td>\n",
       "      <td>Vila Mariana</td>\n",
       "      <td>São Paulo</td>\n",
       "      <td>250</td>\n",
       "      <td>3</td>\n",
       "      <td>3</td>\n",
       "      <td>1</td>\n",
       "      <td>R$ 1.350.000</td>\n",
       "    </tr>\n",
       "    <tr>\n",
       "      <th>120</th>\n",
       "      <td>Praça Doutor Carvalho Franco</td>\n",
       "      <td>Vila Mariana</td>\n",
       "      <td>São Paulo</td>\n",
       "      <td>250</td>\n",
       "      <td>3</td>\n",
       "      <td>5</td>\n",
       "      <td>2</td>\n",
       "      <td>R$ 2.450.000</td>\n",
       "    </tr>\n",
       "    <tr>\n",
       "      <th>155</th>\n",
       "      <td>Rua Professor João Marinho</td>\n",
       "      <td>Vila Mariana</td>\n",
       "      <td>São Paulo</td>\n",
       "      <td>170</td>\n",
       "      <td>3</td>\n",
       "      <td>4</td>\n",
       "      <td>2</td>\n",
       "      <td>R$ 1.490.000</td>\n",
       "    </tr>\n",
       "    <tr>\n",
       "      <th>160</th>\n",
       "      <td>NaN</td>\n",
       "      <td>Vila Mariana</td>\n",
       "      <td>São Paulo</td>\n",
       "      <td>228</td>\n",
       "      <td>4</td>\n",
       "      <td>5</td>\n",
       "      <td>3</td>\n",
       "      <td>R$ 2.200.000</td>\n",
       "    </tr>\n",
       "    <tr>\n",
       "      <th>334</th>\n",
       "      <td>Rua Pero Correia, 892</td>\n",
       "      <td>Vila Mariana</td>\n",
       "      <td>São Paulo</td>\n",
       "      <td>350</td>\n",
       "      <td>6</td>\n",
       "      <td>4</td>\n",
       "      <td>10</td>\n",
       "      <td>R$ 1.700.000</td>\n",
       "    </tr>\n",
       "    <tr>\n",
       "      <th>...</th>\n",
       "      <td>...</td>\n",
       "      <td>...</td>\n",
       "      <td>...</td>\n",
       "      <td>...</td>\n",
       "      <td>...</td>\n",
       "      <td>...</td>\n",
       "      <td>...</td>\n",
       "      <td>...</td>\n",
       "    </tr>\n",
       "    <tr>\n",
       "      <th>9645</th>\n",
       "      <td>Rua Sousa Ramos</td>\n",
       "      <td>Vila Mariana</td>\n",
       "      <td>São Paulo</td>\n",
       "      <td>285</td>\n",
       "      <td>3</td>\n",
       "      <td>5</td>\n",
       "      <td>5</td>\n",
       "      <td>R$ 1.650.000</td>\n",
       "    </tr>\n",
       "    <tr>\n",
       "      <th>9701</th>\n",
       "      <td>Rua Benito Juarez</td>\n",
       "      <td>Vila Mariana</td>\n",
       "      <td>São Paulo</td>\n",
       "      <td>171</td>\n",
       "      <td>3</td>\n",
       "      <td>2</td>\n",
       "      <td>4</td>\n",
       "      <td>R$ 1.650.000</td>\n",
       "    </tr>\n",
       "    <tr>\n",
       "      <th>9737</th>\n",
       "      <td>Rua Benito Juarez</td>\n",
       "      <td>Vila Mariana</td>\n",
       "      <td>São Paulo</td>\n",
       "      <td>171</td>\n",
       "      <td>3</td>\n",
       "      <td>2</td>\n",
       "      <td>4</td>\n",
       "      <td>R$ 1.650.000</td>\n",
       "    </tr>\n",
       "    <tr>\n",
       "      <th>9807</th>\n",
       "      <td>NaN</td>\n",
       "      <td>Vila Mariana</td>\n",
       "      <td>São Paulo</td>\n",
       "      <td>275</td>\n",
       "      <td>3</td>\n",
       "      <td>1</td>\n",
       "      <td>6</td>\n",
       "      <td>R$ 1.500.000</td>\n",
       "    </tr>\n",
       "    <tr>\n",
       "      <th>9852</th>\n",
       "      <td>Rua França Pinto</td>\n",
       "      <td>Vila Mariana</td>\n",
       "      <td>São Paulo</td>\n",
       "      <td>280</td>\n",
       "      <td>3</td>\n",
       "      <td>3</td>\n",
       "      <td>4</td>\n",
       "      <td>R$ 1.600.000</td>\n",
       "    </tr>\n",
       "  </tbody>\n",
       "</table>\n",
       "<p>184 rows × 8 columns</p>\n",
       "</div>"
      ],
      "text/plain": [
       "                               Rua        Bairro     Cidade  Metragem  \\\n",
       "100               Rua Pero Correia  Vila Mariana  São Paulo       250   \n",
       "120   Praça Doutor Carvalho Franco  Vila Mariana  São Paulo       250   \n",
       "155     Rua Professor João Marinho  Vila Mariana  São Paulo       170   \n",
       "160                            NaN  Vila Mariana  São Paulo       228   \n",
       "334         Rua Pero Correia, 892   Vila Mariana  São Paulo       350   \n",
       "...                            ...           ...        ...       ...   \n",
       "9645               Rua Sousa Ramos  Vila Mariana  São Paulo       285   \n",
       "9701             Rua Benito Juarez  Vila Mariana  São Paulo       171   \n",
       "9737             Rua Benito Juarez  Vila Mariana  São Paulo       171   \n",
       "9807                           NaN  Vila Mariana  São Paulo       275   \n",
       "9852              Rua França Pinto  Vila Mariana  São Paulo       280   \n",
       "\n",
       "      Quartos  Banheiros  Vagas         Valor  \n",
       "100         3          3      1  R$ 1.350.000  \n",
       "120         3          5      2  R$ 2.450.000  \n",
       "155         3          4      2  R$ 1.490.000  \n",
       "160         4          5      3  R$ 2.200.000  \n",
       "334         6          4     10  R$ 1.700.000  \n",
       "...       ...        ...    ...           ...  \n",
       "9645        3          5      5  R$ 1.650.000  \n",
       "9701        3          2      4  R$ 1.650.000  \n",
       "9737        3          2      4  R$ 1.650.000  \n",
       "9807        3          1      6  R$ 1.500.000  \n",
       "9852        3          3      4  R$ 1.600.000  \n",
       "\n",
       "[184 rows x 8 columns]"
      ]
     },
     "execution_count": 19,
     "metadata": {},
     "output_type": "execute_result"
    }
   ],
   "source": [
    "imoveis_vila_mariana = dados[tem_imoveis_vila_mar]\n",
    "imoveis_vila_mariana"
   ]
  },
  {
   "cell_type": "code",
   "execution_count": 20,
   "id": "b789b195",
   "metadata": {},
   "outputs": [
    {
     "data": {
      "text/plain": [
       "233.6195652173913"
      ]
     },
     "execution_count": 20,
     "metadata": {},
     "output_type": "execute_result"
    }
   ],
   "source": [
    "imoveis_vila_mariana[\"Metragem\"].mean()"
   ]
  },
  {
   "cell_type": "markdown",
   "id": "93efb43e",
   "metadata": {},
   "source": [
    "##### Quantidade de dados de uma coluna\n",
    "    - especificamos a busca para todos os dados da coluna \"Bairro\";\n",
    "    - temos a quantidade de imóveis por bairro da nossa base de dados."
   ]
  },
  {
   "cell_type": "code",
   "execution_count": 21,
   "id": "43e31350",
   "metadata": {},
   "outputs": [
    {
     "data": {
      "text/plain": [
       "Alto de Pinheiros     409\n",
       "Jardim Guedala        403\n",
       "Jardim Paulista       309\n",
       "Brooklin Paulista     247\n",
       "Jardim Europa         240\n",
       "                     ... \n",
       "Jardim das Imbuias      1\n",
       "Vila Represa            1\n",
       "Vila Nancy              1\n",
       "Sítio Represa           1\n",
       "Vila Invernada          1\n",
       "Name: Bairro, Length: 701, dtype: int64"
      ]
     },
     "execution_count": 21,
     "metadata": {},
     "output_type": "execute_result"
    }
   ],
   "source": [
    "dados[\"Bairro\"].value_counts()"
   ]
  },
  {
   "cell_type": "markdown",
   "id": "d82b14df",
   "metadata": {},
   "source": [
    "##### Visualização através de gráficos\n",
    "    - Os métodos de plotagem nos permite usar estilos de plotagem diferentes; \n",
    "    - os métodos podem ser fornecidos como o argumento de palavra-chave gentil para plot(), e incluem bar, barras;\n",
    "    - Aqui vamos visualizar os 10 primeiros imóveis da base de dados com o comando [head()], e usando o [plot.bar()] vamos criar nosso gráfico em forma de barras."
   ]
  },
  {
   "cell_type": "code",
   "execution_count": 22,
   "id": "88c6c420",
   "metadata": {},
   "outputs": [
    {
     "data": {
      "text/plain": [
       "<AxesSubplot:>"
      ]
     },
     "execution_count": 22,
     "metadata": {},
     "output_type": "execute_result"
    },
    {
     "data": {
      "image/png": "[encoded data removed]",
      "text/plain": [
       "<Figure size 432x288 with 1 Axes>"
      ]
     },
     "metadata": {
      "needs_background": "light"
     },
     "output_type": "display_data"
    }
   ],
   "source": [
    "n_imoveis_bairro = dados[\"Bairro\"].value_counts()\n",
    "n_imoveis_bairro.head(10).plot.bar()"
   ]
  },
  {
   "cell_type": "code",
   "execution_count": 23,
   "id": "324e11bc",
   "metadata": {},
   "outputs": [
    {
     "name": "stdout",
     "output_type": "stream",
     "text": [
      "<class 'pandas.core.frame.DataFrame'>\n",
      "RangeIndex: 10008 entries, 0 to 10007\n",
      "Data columns (total 8 columns):\n",
      " #   Column     Non-Null Count  Dtype \n",
      "---  ------     --------------  ----- \n",
      " 0   Rua        6574 non-null   object\n",
      " 1   Bairro     9996 non-null   object\n",
      " 2   Cidade     10008 non-null  object\n",
      " 3   Metragem   10008 non-null  int64 \n",
      " 4   Quartos    10008 non-null  int64 \n",
      " 5   Banheiros  10008 non-null  int64 \n",
      " 6   Vagas      10008 non-null  int64 \n",
      " 7   Valor      10008 non-null  object\n",
      "dtypes: int64(4), object(4)\n",
      "memory usage: 625.6+ KB\n"
     ]
    }
   ],
   "source": [
    "dados.info()"
   ]
  },
  {
   "cell_type": "code",
   "execution_count": 24,
   "id": "7c0c0148",
   "metadata": {},
   "outputs": [
    {
     "data": {
      "text/plain": [
       "'R$ 7.000.000'"
      ]
     },
     "execution_count": 24,
     "metadata": {},
     "output_type": "execute_result"
    }
   ],
   "source": [
    "# A coluna \"Valor\" é um valor numérico, mas não é um número. Seu Dtype é object, portanto precisamos converter para float para poder trabalhar.\n",
    "dados[\"Valor\"][0]"
   ]
  },
  {
   "cell_type": "code",
   "execution_count": 25,
   "id": "2c233358",
   "metadata": {},
   "outputs": [
    {
     "data": {
      "text/plain": [
       "['R$', '7.000.000']"
      ]
     },
     "execution_count": 25,
     "metadata": {},
     "output_type": "execute_result"
    }
   ],
   "source": [
    "# Como vimos acima, a mesma coluna recebe uma string \"R$\" e um número. Precisamo separar esses dois valores.\n",
    "dados['Valor'][0].split()"
   ]
  },
  {
   "cell_type": "code",
   "execution_count": 26,
   "id": "43f9d903",
   "metadata": {},
   "outputs": [
    {
     "data": {
      "text/html": [
       "<div>\n",
       "<style scoped>\n",
       "    .dataframe tbody tr th:only-of-type {\n",
       "        vertical-align: middle;\n",
       "    }\n",
       "\n",
       "    .dataframe tbody tr th {\n",
       "        vertical-align: top;\n",
       "    }\n",
       "\n",
       "    .dataframe thead th {\n",
       "        text-align: right;\n",
       "    }\n",
       "</style>\n",
       "<table border=\"1\" class=\"dataframe\">\n",
       "  <thead>\n",
       "    <tr style=\"text-align: right;\">\n",
       "      <th></th>\n",
       "      <th>0</th>\n",
       "      <th>1</th>\n",
       "      <th>2</th>\n",
       "    </tr>\n",
       "  </thead>\n",
       "  <tbody>\n",
       "    <tr>\n",
       "      <th>0</th>\n",
       "      <td>R$</td>\n",
       "      <td>7.000.000</td>\n",
       "      <td>None</td>\n",
       "    </tr>\n",
       "    <tr>\n",
       "      <th>1</th>\n",
       "      <td>R$</td>\n",
       "      <td>3.700.000</td>\n",
       "      <td>None</td>\n",
       "    </tr>\n",
       "    <tr>\n",
       "      <th>2</th>\n",
       "      <td>R$</td>\n",
       "      <td>380.000</td>\n",
       "      <td>None</td>\n",
       "    </tr>\n",
       "    <tr>\n",
       "      <th>3</th>\n",
       "      <td>R$</td>\n",
       "      <td>685.000</td>\n",
       "      <td>None</td>\n",
       "    </tr>\n",
       "    <tr>\n",
       "      <th>4</th>\n",
       "      <td>R$</td>\n",
       "      <td>540.000</td>\n",
       "      <td>None</td>\n",
       "    </tr>\n",
       "    <tr>\n",
       "      <th>...</th>\n",
       "      <td>...</td>\n",
       "      <td>...</td>\n",
       "      <td>...</td>\n",
       "    </tr>\n",
       "    <tr>\n",
       "      <th>10003</th>\n",
       "      <td>R$</td>\n",
       "      <td>665.000</td>\n",
       "      <td>None</td>\n",
       "    </tr>\n",
       "    <tr>\n",
       "      <th>10004</th>\n",
       "      <td>R$</td>\n",
       "      <td>2.300.000</td>\n",
       "      <td>None</td>\n",
       "    </tr>\n",
       "    <tr>\n",
       "      <th>10005</th>\n",
       "      <td>R$</td>\n",
       "      <td>1.050.000</td>\n",
       "      <td>None</td>\n",
       "    </tr>\n",
       "    <tr>\n",
       "      <th>10006</th>\n",
       "      <td>R$</td>\n",
       "      <td>2.200</td>\n",
       "      <td>/Mês</td>\n",
       "    </tr>\n",
       "    <tr>\n",
       "      <th>10007</th>\n",
       "      <td>R$</td>\n",
       "      <td>270.000</td>\n",
       "      <td>None</td>\n",
       "    </tr>\n",
       "  </tbody>\n",
       "</table>\n",
       "<p>10008 rows × 3 columns</p>\n",
       "</div>"
      ],
      "text/plain": [
       "        0          1     2\n",
       "0      R$  7.000.000  None\n",
       "1      R$  3.700.000  None\n",
       "2      R$    380.000  None\n",
       "3      R$    685.000  None\n",
       "4      R$    540.000  None\n",
       "...    ..        ...   ...\n",
       "10003  R$    665.000  None\n",
       "10004  R$  2.300.000  None\n",
       "10005  R$  1.050.000  None\n",
       "10006  R$      2.200  /Mês\n",
       "10007  R$    270.000  None\n",
       "\n",
       "[10008 rows x 3 columns]"
      ]
     },
     "execution_count": 26,
     "metadata": {},
     "output_type": "execute_result"
    }
   ],
   "source": [
    "# Com os valores separados, recebemos uma array com três posições [ uma string, um número e na terceira alguns valores != ].\n",
    "dados['Valor'].str.split(expand = True)"
   ]
  },
  {
   "cell_type": "code",
   "execution_count": 27,
   "id": "f136adf9",
   "metadata": {},
   "outputs": [
    {
     "data": {
      "text/plain": [
       "array(['R$'], dtype=object)"
      ]
     },
     "execution_count": 27,
     "metadata": {},
     "output_type": "execute_result"
    }
   ],
   "source": [
    "# Precisamos verificar se o valor em cada índice do array é único ou temos mais de um tipo de valor. No índice 0, temos uma string repetida, que retorna somente o \"R$\".\n",
    "dados['Valor'].str.split(expand = True)[0].unique()"
   ]
  },
  {
   "cell_type": "code",
   "execution_count": 28,
   "id": "98cf0450",
   "metadata": {},
   "outputs": [
    {
     "data": {
      "text/plain": [
       "array(['7.000.000', '3.700.000', '380.000', ..., '553.000', '951.000',\n",
       "       '2.200'], dtype=object)"
      ]
     },
     "execution_count": 28,
     "metadata": {},
     "output_type": "execute_result"
    }
   ],
   "source": [
    "# No índice 1, temos uma lista que retorna somente o números.\n",
    "dados['Valor'].str.split(expand = True)[1].unique()"
   ]
  },
  {
   "cell_type": "code",
   "execution_count": 29,
   "id": "b89e8f3f",
   "metadata": {},
   "outputs": [
    {
     "data": {
      "text/plain": [
       "1038"
      ]
     },
     "execution_count": 29,
     "metadata": {},
     "output_type": "execute_result"
    }
   ],
   "source": [
    "# Total de números da lista.\n",
    "valores_array = len(dados['Valor'].str.split(expand = True)[1].unique())\n",
    "valores_array"
   ]
  },
  {
   "cell_type": "code",
   "execution_count": 30,
   "id": "b4cdd81a",
   "metadata": {},
   "outputs": [
    {
     "data": {
      "text/plain": [
       "array([None, '/Mês', '/Ano', '/Dia'], dtype=object)"
      ]
     },
     "execution_count": 30,
     "metadata": {},
     "output_type": "execute_result"
    }
   ],
   "source": [
    "# No índice 2, temos um array com valores diferentes. Podemos analisar que esses valores se referem a venda e alugueis. Como estamos apenas exercitando e sem nenhum objetivo prático, não iremos fazer nada. Mas fica o lembrete que esses dados não servem para algo relevante.\n",
    "dados['Valor'].str.split(expand = True)[2].unique()"
   ]
  },
  {
   "cell_type": "code",
   "execution_count": 31,
   "id": "f562a81c",
   "metadata": {},
   "outputs": [
    {
     "data": {
      "text/html": [
       "<div>\n",
       "<style scoped>\n",
       "    .dataframe tbody tr th:only-of-type {\n",
       "        vertical-align: middle;\n",
       "    }\n",
       "\n",
       "    .dataframe tbody tr th {\n",
       "        vertical-align: top;\n",
       "    }\n",
       "\n",
       "    .dataframe thead th {\n",
       "        text-align: right;\n",
       "    }\n",
       "</style>\n",
       "<table border=\"1\" class=\"dataframe\">\n",
       "  <thead>\n",
       "    <tr style=\"text-align: right;\">\n",
       "      <th></th>\n",
       "      <th>Rua</th>\n",
       "      <th>Bairro</th>\n",
       "      <th>Cidade</th>\n",
       "      <th>Metragem</th>\n",
       "      <th>Quartos</th>\n",
       "      <th>Banheiros</th>\n",
       "      <th>Vagas</th>\n",
       "      <th>Valor</th>\n",
       "      <th>Moeda</th>\n",
       "      <th>Valor_anuncio</th>\n",
       "      <th>Tipo_anuncio</th>\n",
       "    </tr>\n",
       "  </thead>\n",
       "  <tbody>\n",
       "    <tr>\n",
       "      <th>0</th>\n",
       "      <td>Avenida Itacira, 255</td>\n",
       "      <td>Planalto Paulista</td>\n",
       "      <td>São Paulo</td>\n",
       "      <td>1000</td>\n",
       "      <td>4</td>\n",
       "      <td>8</td>\n",
       "      <td>6</td>\n",
       "      <td>R$ 7.000.000</td>\n",
       "      <td>R$</td>\n",
       "      <td>7.000.000</td>\n",
       "      <td>None</td>\n",
       "    </tr>\n",
       "    <tr>\n",
       "      <th>1</th>\n",
       "      <td>Rua Aurelia Perez Alvarez, 42</td>\n",
       "      <td>Jardim dos Estados</td>\n",
       "      <td>São Paulo</td>\n",
       "      <td>496</td>\n",
       "      <td>4</td>\n",
       "      <td>4</td>\n",
       "      <td>4</td>\n",
       "      <td>R$ 3.700.000</td>\n",
       "      <td>R$</td>\n",
       "      <td>3.700.000</td>\n",
       "      <td>None</td>\n",
       "    </tr>\n",
       "    <tr>\n",
       "      <th>2</th>\n",
       "      <td>Rua Alba Valdez</td>\n",
       "      <td>Jardim Reimberg</td>\n",
       "      <td>São Paulo</td>\n",
       "      <td>125</td>\n",
       "      <td>4</td>\n",
       "      <td>3</td>\n",
       "      <td>2</td>\n",
       "      <td>R$ 380.000</td>\n",
       "      <td>R$</td>\n",
       "      <td>380.000</td>\n",
       "      <td>None</td>\n",
       "    </tr>\n",
       "    <tr>\n",
       "      <th>3</th>\n",
       "      <td>NaN</td>\n",
       "      <td>Jardim Morumbi</td>\n",
       "      <td>São Paulo</td>\n",
       "      <td>310</td>\n",
       "      <td>3</td>\n",
       "      <td>2</td>\n",
       "      <td>4</td>\n",
       "      <td>R$ 685.000</td>\n",
       "      <td>R$</td>\n",
       "      <td>685.000</td>\n",
       "      <td>None</td>\n",
       "    </tr>\n",
       "    <tr>\n",
       "      <th>4</th>\n",
       "      <td>Rua Tobias Barreto, 195</td>\n",
       "      <td>Mooca</td>\n",
       "      <td>São Paulo</td>\n",
       "      <td>100</td>\n",
       "      <td>3</td>\n",
       "      <td>2</td>\n",
       "      <td>2</td>\n",
       "      <td>R$ 540.000</td>\n",
       "      <td>R$</td>\n",
       "      <td>540.000</td>\n",
       "      <td>None</td>\n",
       "    </tr>\n",
       "  </tbody>\n",
       "</table>\n",
       "</div>"
      ],
      "text/plain": [
       "                              Rua              Bairro     Cidade  Metragem  \\\n",
       "0           Avenida Itacira, 255    Planalto Paulista  São Paulo      1000   \n",
       "1  Rua Aurelia Perez Alvarez, 42   Jardim dos Estados  São Paulo       496   \n",
       "2                 Rua Alba Valdez     Jardim Reimberg  São Paulo       125   \n",
       "3                             NaN      Jardim Morumbi  São Paulo       310   \n",
       "4        Rua Tobias Barreto, 195                Mooca  São Paulo       100   \n",
       "\n",
       "   Quartos  Banheiros  Vagas         Valor Moeda Valor_anuncio Tipo_anuncio  \n",
       "0        4          8      6  R$ 7.000.000    R$     7.000.000         None  \n",
       "1        4          4      4  R$ 3.700.000    R$     3.700.000         None  \n",
       "2        4          3      2    R$ 380.000    R$       380.000         None  \n",
       "3        3          2      4    R$ 685.000    R$       685.000         None  \n",
       "4        3          2      2    R$ 540.000    R$       540.000         None  "
      ]
     },
     "execution_count": 31,
     "metadata": {},
     "output_type": "execute_result"
    }
   ],
   "source": [
    "# Sabendo o que temos em cada índice do array, vamos gerar novas colunas para facilitar o trabalho e deixá-lo mais organizado.\n",
    "dados[[\"Moeda\", \"Valor_anuncio\", \"Tipo_anuncio\"]] = dados['Valor'].str.split(expand = True)\n",
    "dados.head()"
   ]
  },
  {
   "cell_type": "code",
   "execution_count": 32,
   "id": "e3d46f4f",
   "metadata": {},
   "outputs": [
    {
     "data": {
      "text/plain": [
       "array([None], dtype=object)"
      ]
     },
     "execution_count": 32,
     "metadata": {},
     "output_type": "execute_result"
    }
   ],
   "source": [
    "dados[dados[\"Tipo_anuncio\"].isnull()][\"Tipo_anuncio\"].unique()"
   ]
  },
  {
   "cell_type": "code",
   "execution_count": 33,
   "id": "8a9b1335",
   "metadata": {},
   "outputs": [
    {
     "data": {
      "text/html": [
       "<div>\n",
       "<style scoped>\n",
       "    .dataframe tbody tr th:only-of-type {\n",
       "        vertical-align: middle;\n",
       "    }\n",
       "\n",
       "    .dataframe tbody tr th {\n",
       "        vertical-align: top;\n",
       "    }\n",
       "\n",
       "    .dataframe thead th {\n",
       "        text-align: right;\n",
       "    }\n",
       "</style>\n",
       "<table border=\"1\" class=\"dataframe\">\n",
       "  <thead>\n",
       "    <tr style=\"text-align: right;\">\n",
       "      <th></th>\n",
       "      <th>Rua</th>\n",
       "      <th>Bairro</th>\n",
       "      <th>Cidade</th>\n",
       "      <th>Metragem</th>\n",
       "      <th>Quartos</th>\n",
       "      <th>Banheiros</th>\n",
       "      <th>Vagas</th>\n",
       "      <th>Valor</th>\n",
       "      <th>Moeda</th>\n",
       "      <th>Valor_anuncio</th>\n",
       "      <th>Tipo_anuncio</th>\n",
       "    </tr>\n",
       "  </thead>\n",
       "  <tbody>\n",
       "    <tr>\n",
       "      <th>0</th>\n",
       "      <td>Avenida Itacira, 255</td>\n",
       "      <td>Planalto Paulista</td>\n",
       "      <td>São Paulo</td>\n",
       "      <td>1000</td>\n",
       "      <td>4</td>\n",
       "      <td>8</td>\n",
       "      <td>6</td>\n",
       "      <td>R$ 7.000.000</td>\n",
       "      <td>R$</td>\n",
       "      <td>7.000.000</td>\n",
       "      <td>None</td>\n",
       "    </tr>\n",
       "    <tr>\n",
       "      <th>1</th>\n",
       "      <td>Rua Aurelia Perez Alvarez, 42</td>\n",
       "      <td>Jardim dos Estados</td>\n",
       "      <td>São Paulo</td>\n",
       "      <td>496</td>\n",
       "      <td>4</td>\n",
       "      <td>4</td>\n",
       "      <td>4</td>\n",
       "      <td>R$ 3.700.000</td>\n",
       "      <td>R$</td>\n",
       "      <td>3.700.000</td>\n",
       "      <td>None</td>\n",
       "    </tr>\n",
       "    <tr>\n",
       "      <th>2</th>\n",
       "      <td>Rua Alba Valdez</td>\n",
       "      <td>Jardim Reimberg</td>\n",
       "      <td>São Paulo</td>\n",
       "      <td>125</td>\n",
       "      <td>4</td>\n",
       "      <td>3</td>\n",
       "      <td>2</td>\n",
       "      <td>R$ 380.000</td>\n",
       "      <td>R$</td>\n",
       "      <td>380.000</td>\n",
       "      <td>None</td>\n",
       "    </tr>\n",
       "    <tr>\n",
       "      <th>3</th>\n",
       "      <td>NaN</td>\n",
       "      <td>Jardim Morumbi</td>\n",
       "      <td>São Paulo</td>\n",
       "      <td>310</td>\n",
       "      <td>3</td>\n",
       "      <td>2</td>\n",
       "      <td>4</td>\n",
       "      <td>R$ 685.000</td>\n",
       "      <td>R$</td>\n",
       "      <td>685.000</td>\n",
       "      <td>None</td>\n",
       "    </tr>\n",
       "    <tr>\n",
       "      <th>4</th>\n",
       "      <td>Rua Tobias Barreto, 195</td>\n",
       "      <td>Mooca</td>\n",
       "      <td>São Paulo</td>\n",
       "      <td>100</td>\n",
       "      <td>3</td>\n",
       "      <td>2</td>\n",
       "      <td>2</td>\n",
       "      <td>R$ 540.000</td>\n",
       "      <td>R$</td>\n",
       "      <td>540.000</td>\n",
       "      <td>None</td>\n",
       "    </tr>\n",
       "    <tr>\n",
       "      <th>...</th>\n",
       "      <td>...</td>\n",
       "      <td>...</td>\n",
       "      <td>...</td>\n",
       "      <td>...</td>\n",
       "      <td>...</td>\n",
       "      <td>...</td>\n",
       "      <td>...</td>\n",
       "      <td>...</td>\n",
       "      <td>...</td>\n",
       "      <td>...</td>\n",
       "      <td>...</td>\n",
       "    </tr>\n",
       "    <tr>\n",
       "      <th>10002</th>\n",
       "      <td>Avenida Odila</td>\n",
       "      <td>Planalto Paulista</td>\n",
       "      <td>São Paulo</td>\n",
       "      <td>267</td>\n",
       "      <td>3</td>\n",
       "      <td>6</td>\n",
       "      <td>4</td>\n",
       "      <td>R$ 1.500.000</td>\n",
       "      <td>R$</td>\n",
       "      <td>1.500.000</td>\n",
       "      <td>None</td>\n",
       "    </tr>\n",
       "    <tr>\n",
       "      <th>10003</th>\n",
       "      <td>Rua Tapuçu</td>\n",
       "      <td>Vila Sofia</td>\n",
       "      <td>São Paulo</td>\n",
       "      <td>95</td>\n",
       "      <td>2</td>\n",
       "      <td>2</td>\n",
       "      <td>2</td>\n",
       "      <td>R$ 665.000</td>\n",
       "      <td>R$</td>\n",
       "      <td>665.000</td>\n",
       "      <td>None</td>\n",
       "    </tr>\n",
       "    <tr>\n",
       "      <th>10004</th>\n",
       "      <td>Rua Guararema</td>\n",
       "      <td>Bosque da Saúde</td>\n",
       "      <td>São Paulo</td>\n",
       "      <td>605</td>\n",
       "      <td>8</td>\n",
       "      <td>7</td>\n",
       "      <td>5</td>\n",
       "      <td>R$ 2.300.000</td>\n",
       "      <td>R$</td>\n",
       "      <td>2.300.000</td>\n",
       "      <td>None</td>\n",
       "    </tr>\n",
       "    <tr>\n",
       "      <th>10005</th>\n",
       "      <td>Rua Estero Belaco</td>\n",
       "      <td>Vila da Saúde</td>\n",
       "      <td>São Paulo</td>\n",
       "      <td>205</td>\n",
       "      <td>3</td>\n",
       "      <td>3</td>\n",
       "      <td>6</td>\n",
       "      <td>R$ 1.050.000</td>\n",
       "      <td>R$</td>\n",
       "      <td>1.050.000</td>\n",
       "      <td>None</td>\n",
       "    </tr>\n",
       "    <tr>\n",
       "      <th>10007</th>\n",
       "      <td>Rua Barão de Tramandaí, 0</td>\n",
       "      <td>Vila Alpina</td>\n",
       "      <td>São Paulo</td>\n",
       "      <td>122</td>\n",
       "      <td>3</td>\n",
       "      <td>2</td>\n",
       "      <td>2</td>\n",
       "      <td>R$ 270.000</td>\n",
       "      <td>R$</td>\n",
       "      <td>270.000</td>\n",
       "      <td>None</td>\n",
       "    </tr>\n",
       "  </tbody>\n",
       "</table>\n",
       "<p>9156 rows × 11 columns</p>\n",
       "</div>"
      ],
      "text/plain": [
       "                                  Rua              Bairro     Cidade  \\\n",
       "0               Avenida Itacira, 255    Planalto Paulista  São Paulo   \n",
       "1      Rua Aurelia Perez Alvarez, 42   Jardim dos Estados  São Paulo   \n",
       "2                     Rua Alba Valdez     Jardim Reimberg  São Paulo   \n",
       "3                                 NaN      Jardim Morumbi  São Paulo   \n",
       "4            Rua Tobias Barreto, 195                Mooca  São Paulo   \n",
       "...                               ...                 ...        ...   \n",
       "10002                   Avenida Odila   Planalto Paulista  São Paulo   \n",
       "10003                      Rua Tapuçu          Vila Sofia  São Paulo   \n",
       "10004                   Rua Guararema     Bosque da Saúde  São Paulo   \n",
       "10005               Rua Estero Belaco       Vila da Saúde  São Paulo   \n",
       "10007      Rua Barão de Tramandaí, 0          Vila Alpina  São Paulo   \n",
       "\n",
       "       Metragem  Quartos  Banheiros  Vagas         Valor Moeda Valor_anuncio  \\\n",
       "0          1000        4          8      6  R$ 7.000.000    R$     7.000.000   \n",
       "1           496        4          4      4  R$ 3.700.000    R$     3.700.000   \n",
       "2           125        4          3      2    R$ 380.000    R$       380.000   \n",
       "3           310        3          2      4    R$ 685.000    R$       685.000   \n",
       "4           100        3          2      2    R$ 540.000    R$       540.000   \n",
       "...         ...      ...        ...    ...           ...   ...           ...   \n",
       "10002       267        3          6      4  R$ 1.500.000    R$     1.500.000   \n",
       "10003        95        2          2      2    R$ 665.000    R$       665.000   \n",
       "10004       605        8          7      5  R$ 2.300.000    R$     2.300.000   \n",
       "10005       205        3          3      6  R$ 1.050.000    R$     1.050.000   \n",
       "10007       122        3          2      2    R$ 270.000    R$       270.000   \n",
       "\n",
       "      Tipo_anuncio  \n",
       "0             None  \n",
       "1             None  \n",
       "2             None  \n",
       "3             None  \n",
       "4             None  \n",
       "...            ...  \n",
       "10002         None  \n",
       "10003         None  \n",
       "10004         None  \n",
       "10005         None  \n",
       "10007         None  \n",
       "\n",
       "[9156 rows x 11 columns]"
      ]
     },
     "execution_count": 33,
     "metadata": {},
     "output_type": "execute_result"
    }
   ],
   "source": [
    "# verificando se os valores da nova coluna \"Tipo_anuncio\" são nulos.\n",
    "dados_filtro = dados[dados[\"Tipo_anuncio\"].isnull()]\n",
    "dados_filtro"
   ]
  },
  {
   "cell_type": "code",
   "execution_count": 34,
   "id": "b130daf2",
   "metadata": {},
   "outputs": [
    {
     "name": "stdout",
     "output_type": "stream",
     "text": [
      "<class 'pandas.core.frame.DataFrame'>\n",
      "Int64Index: 9156 entries, 0 to 10007\n",
      "Data columns (total 11 columns):\n",
      " #   Column         Non-Null Count  Dtype \n",
      "---  ------         --------------  ----- \n",
      " 0   Rua            6107 non-null   object\n",
      " 1   Bairro         9146 non-null   object\n",
      " 2   Cidade         9156 non-null   object\n",
      " 3   Metragem       9156 non-null   int64 \n",
      " 4   Quartos        9156 non-null   int64 \n",
      " 5   Banheiros      9156 non-null   int64 \n",
      " 6   Vagas          9156 non-null   int64 \n",
      " 7   Valor          9156 non-null   object\n",
      " 8   Moeda          9156 non-null   object\n",
      " 9   Valor_anuncio  9156 non-null   object\n",
      " 10  Tipo_anuncio   0 non-null      object\n",
      "dtypes: int64(4), object(7)\n",
      "memory usage: 858.4+ KB\n"
     ]
    }
   ],
   "source": [
    "# Varificando o tipo de dos. Continuam iguais, \"object\", mas temos os valores separados.\n",
    "dados_filtro.info()"
   ]
  },
  {
   "cell_type": "code",
   "execution_count": 35,
   "id": "45e030e4",
   "metadata": {},
   "outputs": [
    {
     "name": "stderr",
     "output_type": "stream",
     "text": [
      "/tmp/ipykernel_23826/429326568.py:2: FutureWarning: The default value of regex will change from True to False in a future version. In addition, single character regular expressions will *not* be treated as literal strings when regex=True.\n",
      "  dados_filtro[\"Valor_anuncio\"].str.replace(\".\", \"\").astype(float)\n"
     ]
    },
    {
     "data": {
      "text/plain": [
       "0        7000000.0\n",
       "1        3700000.0\n",
       "2         380000.0\n",
       "3         685000.0\n",
       "4         540000.0\n",
       "           ...    \n",
       "10002    1500000.0\n",
       "10003     665000.0\n",
       "10004    2300000.0\n",
       "10005    1050000.0\n",
       "10007     270000.0\n",
       "Name: Valor_anuncio, Length: 9156, dtype: float64"
      ]
     },
     "execution_count": 35,
     "metadata": {},
     "output_type": "execute_result"
    }
   ],
   "source": [
    "# Com os valores separados, podemos trabalhar somente com os números da coluna \"Valor_anuncio\", e transformar em float.\n",
    "dados_filtro[\"Valor_anuncio\"].str.replace(\".\", \"\").astype(float)"
   ]
  },
  {
   "cell_type": "code",
   "execution_count": 36,
   "id": "6e43f555",
   "metadata": {},
   "outputs": [
    {
     "name": "stderr",
     "output_type": "stream",
     "text": [
      "/tmp/ipykernel_23826/1184291842.py:2: FutureWarning: The default value of regex will change from True to False in a future version. In addition, single character regular expressions will *not* be treated as literal strings when regex=True.\n",
      "  dados_filtro[\"Valor_anuncio_float\"] = dados_filtro[\"Valor_anuncio\"].str.replace(\".\", \"\").astype(float)\n"
     ]
    },
    {
     "name": "stdout",
     "output_type": "stream",
     "text": [
      "<class 'pandas.core.frame.DataFrame'>\n",
      "Int64Index: 9156 entries, 0 to 10007\n",
      "Data columns (total 12 columns):\n",
      " #   Column               Non-Null Count  Dtype  \n",
      "---  ------               --------------  -----  \n",
      " 0   Rua                  6107 non-null   object \n",
      " 1   Bairro               9146 non-null   object \n",
      " 2   Cidade               9156 non-null   object \n",
      " 3   Metragem             9156 non-null   int64  \n",
      " 4   Quartos              9156 non-null   int64  \n",
      " 5   Banheiros            9156 non-null   int64  \n",
      " 6   Vagas                9156 non-null   int64  \n",
      " 7   Valor                9156 non-null   object \n",
      " 8   Moeda                9156 non-null   object \n",
      " 9   Valor_anuncio        9156 non-null   object \n",
      " 10  Tipo_anuncio         0 non-null      object \n",
      " 11  Valor_anuncio_float  9156 non-null   float64\n",
      "dtypes: float64(1), int64(4), object(7)\n",
      "memory usage: 929.9+ KB\n"
     ]
    },
    {
     "name": "stderr",
     "output_type": "stream",
     "text": [
      "/tmp/ipykernel_23826/1184291842.py:2: SettingWithCopyWarning: \n",
      "A value is trying to be set on a copy of a slice from a DataFrame.\n",
      "Try using .loc[row_indexer,col_indexer] = value instead\n",
      "\n",
      "See the caveats in the documentation: https://pandas.pydata.org/pandas-docs/stable/user_guide/indexing.html#returning-a-view-versus-a-copy\n",
      "  dados_filtro[\"Valor_anuncio_float\"] = dados_filtro[\"Valor_anuncio\"].str.replace(\".\", \"\").astype(float)\n"
     ]
    }
   ],
   "source": [
    "# Retirando os pontos desnecessários no valor, e deixando somente o que separa o número do centavo.\n",
    "dados_filtro[\"Valor_anuncio_float\"] = dados_filtro[\"Valor_anuncio\"].str.replace(\".\", \"\").astype(float)\n",
    "\n",
    "# retornamos a informação dos dados filtrados e temos todas as colunas, inclusive as novas, com  a quantidade de valores não nulos e os typos. Assim podemos manipular os dados e os números.\n",
    "dados_filtro.info()"
   ]
  },
  {
   "cell_type": "code",
   "execution_count": 37,
   "id": "f95f5394",
   "metadata": {},
   "outputs": [
    {
     "data": {
      "text/plain": [
       "<AxesSubplot:ylabel='Frequency'>"
      ]
     },
     "execution_count": 37,
     "metadata": {},
     "output_type": "execute_result"
    },
    {
     "data": {
      "image/png": "[encoded data removed]",
      "text/plain": [
       "<Figure size 432x288 with 1 Axes>"
      ]
     },
     "metadata": {
      "needs_background": "light"
     },
     "output_type": "display_data"
    }
   ],
   "source": [
    "dados_filtro[\"Valor_anuncio_float\"].plot.hist(bins = 50)"
   ]
  },
  {
   "cell_type": "code",
   "execution_count": 38,
   "id": "979f67a6",
   "metadata": {},
   "outputs": [
    {
     "data": {
      "text/html": [
       "<div>\n",
       "<style scoped>\n",
       "    .dataframe tbody tr th:only-of-type {\n",
       "        vertical-align: middle;\n",
       "    }\n",
       "\n",
       "    .dataframe tbody tr th {\n",
       "        vertical-align: top;\n",
       "    }\n",
       "\n",
       "    .dataframe thead th {\n",
       "        text-align: right;\n",
       "    }\n",
       "</style>\n",
       "<table border=\"1\" class=\"dataframe\">\n",
       "  <thead>\n",
       "    <tr style=\"text-align: right;\">\n",
       "      <th></th>\n",
       "      <th>Metragem</th>\n",
       "      <th>Quartos</th>\n",
       "      <th>Banheiros</th>\n",
       "      <th>Vagas</th>\n",
       "      <th>Valor_anuncio_float</th>\n",
       "    </tr>\n",
       "  </thead>\n",
       "  <tbody>\n",
       "    <tr>\n",
       "      <th>count</th>\n",
       "      <td>9156.000000</td>\n",
       "      <td>9156.000000</td>\n",
       "      <td>9156.000000</td>\n",
       "      <td>9156.000000</td>\n",
       "      <td>9.156000e+03</td>\n",
       "    </tr>\n",
       "    <tr>\n",
       "      <th>mean</th>\n",
       "      <td>434.416230</td>\n",
       "      <td>3.446811</td>\n",
       "      <td>3.797073</td>\n",
       "      <td>3.960135</td>\n",
       "      <td>3.052203e+06</td>\n",
       "    </tr>\n",
       "    <tr>\n",
       "      <th>std</th>\n",
       "      <td>7856.422978</td>\n",
       "      <td>1.048944</td>\n",
       "      <td>1.967873</td>\n",
       "      <td>2.601022</td>\n",
       "      <td>3.944208e+06</td>\n",
       "    </tr>\n",
       "    <tr>\n",
       "      <th>min</th>\n",
       "      <td>10.000000</td>\n",
       "      <td>1.000000</td>\n",
       "      <td>1.000000</td>\n",
       "      <td>1.000000</td>\n",
       "      <td>1.300000e+04</td>\n",
       "    </tr>\n",
       "    <tr>\n",
       "      <th>25%</th>\n",
       "      <td>168.000000</td>\n",
       "      <td>3.000000</td>\n",
       "      <td>2.000000</td>\n",
       "      <td>2.000000</td>\n",
       "      <td>8.900000e+05</td>\n",
       "    </tr>\n",
       "    <tr>\n",
       "      <th>50%</th>\n",
       "      <td>276.000000</td>\n",
       "      <td>3.000000</td>\n",
       "      <td>4.000000</td>\n",
       "      <td>4.000000</td>\n",
       "      <td>1.800000e+06</td>\n",
       "    </tr>\n",
       "    <tr>\n",
       "      <th>75%</th>\n",
       "      <td>450.000000</td>\n",
       "      <td>4.000000</td>\n",
       "      <td>5.000000</td>\n",
       "      <td>5.000000</td>\n",
       "      <td>3.500000e+06</td>\n",
       "    </tr>\n",
       "    <tr>\n",
       "      <th>max</th>\n",
       "      <td>750000.000000</td>\n",
       "      <td>16.000000</td>\n",
       "      <td>40.000000</td>\n",
       "      <td>50.000000</td>\n",
       "      <td>6.500000e+07</td>\n",
       "    </tr>\n",
       "  </tbody>\n",
       "</table>\n",
       "</div>"
      ],
      "text/plain": [
       "            Metragem      Quartos    Banheiros        Vagas  \\\n",
       "count    9156.000000  9156.000000  9156.000000  9156.000000   \n",
       "mean      434.416230     3.446811     3.797073     3.960135   \n",
       "std      7856.422978     1.048944     1.967873     2.601022   \n",
       "min        10.000000     1.000000     1.000000     1.000000   \n",
       "25%       168.000000     3.000000     2.000000     2.000000   \n",
       "50%       276.000000     3.000000     4.000000     4.000000   \n",
       "75%       450.000000     4.000000     5.000000     5.000000   \n",
       "max    750000.000000    16.000000    40.000000    50.000000   \n",
       "\n",
       "       Valor_anuncio_float  \n",
       "count         9.156000e+03  \n",
       "mean          3.052203e+06  \n",
       "std           3.944208e+06  \n",
       "min           1.300000e+04  \n",
       "25%           8.900000e+05  \n",
       "50%           1.800000e+06  \n",
       "75%           3.500000e+06  \n",
       "max           6.500000e+07  "
      ]
     },
     "execution_count": 38,
     "metadata": {},
     "output_type": "execute_result"
    }
   ],
   "source": [
    "dados_filtro.describe()"
   ]
  },
  {
   "cell_type": "code",
   "execution_count": 39,
   "id": "090cc544",
   "metadata": {},
   "outputs": [
    {
     "data": {
      "text/html": [
       "<div>\n",
       "<style scoped>\n",
       "    .dataframe tbody tr th:only-of-type {\n",
       "        vertical-align: middle;\n",
       "    }\n",
       "\n",
       "    .dataframe tbody tr th {\n",
       "        vertical-align: top;\n",
       "    }\n",
       "\n",
       "    .dataframe thead th {\n",
       "        text-align: right;\n",
       "    }\n",
       "</style>\n",
       "<table border=\"1\" class=\"dataframe\">\n",
       "  <thead>\n",
       "    <tr style=\"text-align: right;\">\n",
       "      <th></th>\n",
       "      <th>Metragem</th>\n",
       "      <th>Quartos</th>\n",
       "      <th>Banheiros</th>\n",
       "      <th>Vagas</th>\n",
       "      <th>Valor_anuncio_float</th>\n",
       "    </tr>\n",
       "  </thead>\n",
       "  <tbody>\n",
       "    <tr>\n",
       "      <th>count</th>\n",
       "      <td>9156.00</td>\n",
       "      <td>9156.00</td>\n",
       "      <td>9156.00</td>\n",
       "      <td>9156.00</td>\n",
       "      <td>9156.00</td>\n",
       "    </tr>\n",
       "    <tr>\n",
       "      <th>mean</th>\n",
       "      <td>434.42</td>\n",
       "      <td>3.45</td>\n",
       "      <td>3.80</td>\n",
       "      <td>3.96</td>\n",
       "      <td>3052202.96</td>\n",
       "    </tr>\n",
       "    <tr>\n",
       "      <th>std</th>\n",
       "      <td>7856.42</td>\n",
       "      <td>1.05</td>\n",
       "      <td>1.97</td>\n",
       "      <td>2.60</td>\n",
       "      <td>3944208.19</td>\n",
       "    </tr>\n",
       "    <tr>\n",
       "      <th>min</th>\n",
       "      <td>10.00</td>\n",
       "      <td>1.00</td>\n",
       "      <td>1.00</td>\n",
       "      <td>1.00</td>\n",
       "      <td>13000.00</td>\n",
       "    </tr>\n",
       "    <tr>\n",
       "      <th>25%</th>\n",
       "      <td>168.00</td>\n",
       "      <td>3.00</td>\n",
       "      <td>2.00</td>\n",
       "      <td>2.00</td>\n",
       "      <td>890000.00</td>\n",
       "    </tr>\n",
       "    <tr>\n",
       "      <th>50%</th>\n",
       "      <td>276.00</td>\n",
       "      <td>3.00</td>\n",
       "      <td>4.00</td>\n",
       "      <td>4.00</td>\n",
       "      <td>1800000.00</td>\n",
       "    </tr>\n",
       "    <tr>\n",
       "      <th>75%</th>\n",
       "      <td>450.00</td>\n",
       "      <td>4.00</td>\n",
       "      <td>5.00</td>\n",
       "      <td>5.00</td>\n",
       "      <td>3500000.00</td>\n",
       "    </tr>\n",
       "    <tr>\n",
       "      <th>max</th>\n",
       "      <td>750000.00</td>\n",
       "      <td>16.00</td>\n",
       "      <td>40.00</td>\n",
       "      <td>50.00</td>\n",
       "      <td>65000000.00</td>\n",
       "    </tr>\n",
       "  </tbody>\n",
       "</table>\n",
       "</div>"
      ],
      "text/plain": [
       "       Metragem  Quartos  Banheiros   Vagas  Valor_anuncio_float\n",
       "count   9156.00  9156.00    9156.00 9156.00              9156.00\n",
       "mean     434.42     3.45       3.80    3.96           3052202.96\n",
       "std     7856.42     1.05       1.97    2.60           3944208.19\n",
       "min       10.00     1.00       1.00    1.00             13000.00\n",
       "25%      168.00     3.00       2.00    2.00            890000.00\n",
       "50%      276.00     3.00       4.00    4.00           1800000.00\n",
       "75%      450.00     4.00       5.00    5.00           3500000.00\n",
       "max   750000.00    16.00      40.00   50.00          65000000.00"
      ]
     },
     "execution_count": 39,
     "metadata": {},
     "output_type": "execute_result"
    }
   ],
   "source": [
    "pd.set_option(\"display.precision\", 2)\n",
    "# Traduzindo os valores do \"Valor_anuncio_float\" de conotação científica para valores reais.\n",
    "pd.set_option(\"display.float_format\", lambda x: '%.2f' % x)\n",
    "dados_filtro.describe()"
   ]
  },
  {
   "cell_type": "code",
   "execution_count": 40,
   "id": "d6b5d0c3",
   "metadata": {},
   "outputs": [
    {
     "data": {
      "text/html": [
       "<div>\n",
       "<style scoped>\n",
       "    .dataframe tbody tr th:only-of-type {\n",
       "        vertical-align: middle;\n",
       "    }\n",
       "\n",
       "    .dataframe tbody tr th {\n",
       "        vertical-align: top;\n",
       "    }\n",
       "\n",
       "    .dataframe thead th {\n",
       "        text-align: right;\n",
       "    }\n",
       "</style>\n",
       "<table border=\"1\" class=\"dataframe\">\n",
       "  <thead>\n",
       "    <tr style=\"text-align: right;\">\n",
       "      <th></th>\n",
       "      <th>Rua</th>\n",
       "      <th>Bairro</th>\n",
       "      <th>Cidade</th>\n",
       "    </tr>\n",
       "  </thead>\n",
       "  <tbody>\n",
       "    <tr>\n",
       "      <th>count</th>\n",
       "      <td>6107</td>\n",
       "      <td>9146</td>\n",
       "      <td>9156</td>\n",
       "    </tr>\n",
       "    <tr>\n",
       "      <th>unique</th>\n",
       "      <td>3006</td>\n",
       "      <td>697</td>\n",
       "      <td>1</td>\n",
       "    </tr>\n",
       "    <tr>\n",
       "      <th>top</th>\n",
       "      <td>Rua Alberto Faria</td>\n",
       "      <td>Alto de Pinheiros</td>\n",
       "      <td>São Paulo</td>\n",
       "    </tr>\n",
       "    <tr>\n",
       "      <th>freq</th>\n",
       "      <td>24</td>\n",
       "      <td>369</td>\n",
       "      <td>9156</td>\n",
       "    </tr>\n",
       "  </tbody>\n",
       "</table>\n",
       "</div>"
      ],
      "text/plain": [
       "                      Rua             Bairro     Cidade\n",
       "count                6107               9146       9156\n",
       "unique               3006                697          1\n",
       "top     Rua Alberto Faria  Alto de Pinheiros  São Paulo\n",
       "freq                   24                369       9156"
      ]
     },
     "execution_count": 40,
     "metadata": {},
     "output_type": "execute_result"
    }
   ],
   "source": [
    "dados_filtro[[\"Rua\", \"Bairro\", \"Cidade\"]].describe()"
   ]
  },
  {
   "cell_type": "code",
   "execution_count": 41,
   "id": "776922fe",
   "metadata": {},
   "outputs": [],
   "source": [
    "import matplotlib.pyplot as plt"
   ]
  },
  {
   "cell_type": "code",
   "execution_count": 58,
   "id": "a766c7b8",
   "metadata": {},
   "outputs": [
    {
     "data": {
      "image/png": "[encoded data removed]",
      "text/plain": [
       "<Figure size 864x432 with 1 Axes>"
      ]
     },
     "metadata": {},
     "output_type": "display_data"
    }
   ],
   "source": [
    "# Configuração inicial do seaborn.\n",
    "sns.set()\n",
    "\n",
    "# plotando o histograma dos valores da coluna \"Valor_anuncio_float\" usando a lib seaborn.\n",
    "plt.figure(figsize = (12, 6))\n",
    "ax = sns.histplot(data = dados_filtro, x = \"Valor_anuncio_float\", kde = True)\n",
    "ax.set_title(\"Valor de Venda dos imóveis em são Paulo\")\n",
    "\n",
    "plt.xlim((-50, 10000000))\n",
    "plt.show()"
   ]
  },
  {
   "cell_type": "markdown",
   "id": "2c50c0b2",
   "metadata": {},
   "source": [
    "<h3 id=\"desafios02\">Desafio Aula 2</h3>\n",
    "\n",
    "    Criar uma escala de valores em milhões\n",
    "    Deixar o gráfico do histograma de valores legível (alterar labels, cores, título, escala)\n",
    "    Preço do metro quadrado por bairro e plotar em um gráfico ideal\n",
    "    Explorar as bibliotecas de visualizações e colocar as suas conclusão\n",
    "    Pesquisar um visualização para analisar os quartis, mediana e outliers"
   ]
  },
  {
   "cell_type": "markdown",
   "id": "2bc45e9c",
   "metadata": {},
   "source": [
    "## Resolução - Desafios Aula 02"
   ]
  },
  {
   "cell_type": "markdown",
   "id": "60a75b5f",
   "metadata": {},
   "source": [
    "### Desafio 2.01\n",
    "    - Criar uma escala de valores em milhões."
   ]
  },
  {
   "cell_type": "code",
   "execution_count": 62,
   "id": "e25bfcee",
   "metadata": {},
   "outputs": [
    {
     "data": {
      "image/png": "[encoded data removed]",
      "text/plain": [
       "<Figure size 864x432 with 1 Axes>"
      ]
     },
     "metadata": {},
     "output_type": "display_data"
    }
   ],
   "source": [
    "# plotando o histograma dos valores da coluna \"Valor_anuncio_float\" usando a lib seaborn.\n",
    "plt.figure(figsize = (12, 6))\n",
    "ax = sns.histplot(data = dados_filtro, x = \"Valor_anuncio_float\", kde = True)\n",
    "ax.set_title(\"Valor de Venda dos imóveis em São Paulo\")\n",
    "plt.xlabel(\"Valor do Imóvel (Milhões)\")\n",
    "plt.ylabel(\"Quantidade de Imóveis\")\n",
    "\n",
    "# plotando o histograma com os valores em Milhões de Reais. \n",
    "plt.xticks([0, 1000000, 20000000, 3000000, 4000000, 5000000, 6000000, 7000000, 8000000, 9000000], rotation=30)\n",
    "plt.xlim((-50, 10000000))\n",
    "plt.show()"
   ]
  },
  {
   "cell_type": "code",
   "execution_count": 44,
   "id": "3f80b7fe",
   "metadata": {},
   "outputs": [
    {
     "data": {
      "text/plain": [
       "0       7.00\n",
       "1       3.70\n",
       "2       0.38\n",
       "3       0.69\n",
       "4       0.54\n",
       "        ... \n",
       "10002   1.50\n",
       "10003   0.67\n",
       "10004   2.30\n",
       "10005   1.05\n",
       "10007   0.27\n",
       "Name: Valor_anuncio_float, Length: 9156, dtype: float64"
      ]
     },
     "execution_count": 44,
     "metadata": {},
     "output_type": "execute_result"
    }
   ],
   "source": [
    "# Transformando os valores em milhões de reais simplificado.\n",
    "dados_milhoes = dados_filtro[\"Valor_anuncio_float\"] / 1000000\n",
    "dados_milhoes"
   ]
  },
  {
   "cell_type": "markdown",
   "id": "8773228b",
   "metadata": {},
   "source": [
    "### Desafio 2.02\n",
    "    - Deixar o gráfico do histograma de valores legível (alterar labels, cores, título, escala)."
   ]
  },
  {
   "cell_type": "code",
   "execution_count": 134,
   "id": "943d247d",
   "metadata": {},
   "outputs": [
    {
     "data": {
      "image/png": "[encoded data removed]",
      "text/plain": [
       "<Figure size 864x432 with 1 Axes>"
      ]
     },
     "metadata": {},
     "output_type": "display_data"
    }
   ],
   "source": [
    "# plotando o histograma usando a lib seaborn.\n",
    "plt.figure(figsize = (12, 6))\n",
    "ax = sns.histplot(data = dados_filtro, x = \"Valor_anuncio_float\", kde = True, ec=\"Black\", color=\"green\")\n",
    "ax.set_title(\"Valor de Venda dos imóveis em São Paulo\", pad=20, fontsize=20)\n",
    "plt.xlabel(\"Valor do Imóvel (Milhões)\")\n",
    "plt.ylabel(\"Quantidade de Imóveis\")\n",
    "\n",
    "# plotando o histograma com os valores em Milhões de Reais. \n",
    "plt.xticks([0, 1000000, 20000000, 3000000, 4000000, 5000000, 6000000, 7000000, 8000000, 9000000], rotation=30)\n",
    "plt.xlim((-50, 10000000))\n",
    "\n",
    "plt.show()"
   ]
  },
  {
   "cell_type": "markdown",
   "id": "88450dac",
   "metadata": {},
   "source": [
    "### Desafio 2.03\n",
    "    - Preço do metro quadrado por bairro e plotar em um gráfico ideal."
   ]
  },
  {
   "cell_type": "code",
   "execution_count": 86,
   "id": "399102c7",
   "metadata": {},
   "outputs": [],
   "source": [
    "valor_metro_quadrado = pd.DataFrame(dados_filtro.groupby('Bairro')['Valor_anuncio_float'].sum() / dados_filtro.groupby('Bairro')['Metragem'].sum())"
   ]
  },
  {
   "cell_type": "code",
   "execution_count": 87,
   "id": "5d29f4f5",
   "metadata": {},
   "outputs": [],
   "source": [
    "valor_metro_quadrado.rename(columns = {0: \"Valor Metro2\"}, inplace = True)"
   ]
  },
  {
   "cell_type": "code",
   "execution_count": 95,
   "id": "d97d6c77",
   "metadata": {},
   "outputs": [
    {
     "data": {
      "text/html": [
       "<div>\n",
       "<style scoped>\n",
       "    .dataframe tbody tr th:only-of-type {\n",
       "        vertical-align: middle;\n",
       "    }\n",
       "\n",
       "    .dataframe tbody tr th {\n",
       "        vertical-align: top;\n",
       "    }\n",
       "\n",
       "    .dataframe thead th {\n",
       "        text-align: right;\n",
       "    }\n",
       "</style>\n",
       "<table border=\"1\" class=\"dataframe\">\n",
       "  <thead>\n",
       "    <tr style=\"text-align: right;\">\n",
       "      <th></th>\n",
       "      <th>Valor Metro2</th>\n",
       "    </tr>\n",
       "    <tr>\n",
       "      <th>Bairro</th>\n",
       "      <th></th>\n",
       "    </tr>\n",
       "  </thead>\n",
       "  <tbody>\n",
       "    <tr>\n",
       "      <th>Vila Guaca</th>\n",
       "      <td>80000.00</td>\n",
       "    </tr>\n",
       "    <tr>\n",
       "      <th>Jardim América</th>\n",
       "      <td>25417.48</td>\n",
       "    </tr>\n",
       "    <tr>\n",
       "      <th>Jardim Teresa</th>\n",
       "      <td>22884.32</td>\n",
       "    </tr>\n",
       "    <tr>\n",
       "      <th>Jardim Europa</th>\n",
       "      <td>20304.57</td>\n",
       "    </tr>\n",
       "    <tr>\n",
       "      <th>Vila Nova Conceição</th>\n",
       "      <td>17576.07</td>\n",
       "    </tr>\n",
       "    <tr>\n",
       "      <th>Morro dos Ingleses</th>\n",
       "      <td>17357.14</td>\n",
       "    </tr>\n",
       "    <tr>\n",
       "      <th>Jardim Luzitânia</th>\n",
       "      <td>16961.10</td>\n",
       "    </tr>\n",
       "    <tr>\n",
       "      <th>Jardim Paulista</th>\n",
       "      <td>16395.70</td>\n",
       "    </tr>\n",
       "    <tr>\n",
       "      <th>Jardim Paulistano</th>\n",
       "      <td>14913.54</td>\n",
       "    </tr>\n",
       "    <tr>\n",
       "      <th>São Judas</th>\n",
       "      <td>14889.06</td>\n",
       "    </tr>\n",
       "    <tr>\n",
       "      <th>Jardins</th>\n",
       "      <td>13530.81</td>\n",
       "    </tr>\n",
       "    <tr>\n",
       "      <th>Itaim Bibi</th>\n",
       "      <td>13408.17</td>\n",
       "    </tr>\n",
       "    <tr>\n",
       "      <th>Brooklin Novo</th>\n",
       "      <td>12489.12</td>\n",
       "    </tr>\n",
       "    <tr>\n",
       "      <th>Jardim Luanda</th>\n",
       "      <td>12444.44</td>\n",
       "    </tr>\n",
       "    <tr>\n",
       "      <th>Pinheiros</th>\n",
       "      <td>12436.08</td>\n",
       "    </tr>\n",
       "  </tbody>\n",
       "</table>\n",
       "</div>"
      ],
      "text/plain": [
       "                     Valor Metro2\n",
       "Bairro                           \n",
       "Vila Guaca               80000.00\n",
       "Jardim América           25417.48\n",
       "Jardim Teresa            22884.32\n",
       "Jardim Europa            20304.57\n",
       "Vila Nova Conceição      17576.07\n",
       "Morro dos Ingleses       17357.14\n",
       "Jardim Luzitânia         16961.10\n",
       "Jardim Paulista          16395.70\n",
       "Jardim Paulistano        14913.54\n",
       "São Judas                14889.06\n",
       "Jardins                  13530.81\n",
       "Itaim Bibi               13408.17\n",
       "Brooklin Novo            12489.12\n",
       "Jardim Luanda            12444.44\n",
       "Pinheiros                12436.08"
      ]
     },
     "execution_count": 95,
     "metadata": {},
     "output_type": "execute_result"
    }
   ],
   "source": [
    "# Mostrando os 15 maior valores do M2 por bairro.\n",
    "valor_metro_quadrado15 = valor_metro_quadrado.sort_values(by= \"Valor Metro2\", ascending=False).head(15)\n",
    "valor_metro_quadrado15"
   ]
  },
  {
   "cell_type": "code",
   "execution_count": 135,
   "id": "d3503c71",
   "metadata": {},
   "outputs": [
    {
     "data": {
      "image/png": "[encoded data removed]",
      "text/plain": [
       "<Figure size 1296x432 with 1 Axes>"
      ]
     },
     "metadata": {},
     "output_type": "display_data"
    }
   ],
   "source": [
    "plt.figure(figsize = (18, 6))\n",
    "ax = sns.barplot(data = valor_metro_quadrado15, x = valor_metro_quadrado15.index, y= \"Valor Metro2\", palette=\"ocean_r\")\n",
    "\n",
    "ax.set_title(\"Valor de Venda por Metro Quadrado em São Paulo\", pad=20, fontsize=20)\n",
    "plt.ylabel(\"Valor m² por Bairro\")\n",
    "plt.xticks(rotation=30)\n",
    "\n",
    "plt.show()"
   ]
  },
  {
   "cell_type": "code",
   "execution_count": 109,
   "id": "b7df25b7",
   "metadata": {},
   "outputs": [
    {
     "data": {
      "text/html": [
       "<div>\n",
       "<style scoped>\n",
       "    .dataframe tbody tr th:only-of-type {\n",
       "        vertical-align: middle;\n",
       "    }\n",
       "\n",
       "    .dataframe tbody tr th {\n",
       "        vertical-align: top;\n",
       "    }\n",
       "\n",
       "    .dataframe thead th {\n",
       "        text-align: right;\n",
       "    }\n",
       "</style>\n",
       "<table border=\"1\" class=\"dataframe\">\n",
       "  <thead>\n",
       "    <tr style=\"text-align: right;\">\n",
       "      <th></th>\n",
       "      <th>Valor Metro2</th>\n",
       "    </tr>\n",
       "    <tr>\n",
       "      <th>Bairro</th>\n",
       "      <th></th>\n",
       "    </tr>\n",
       "  </thead>\n",
       "  <tbody>\n",
       "    <tr>\n",
       "      <th>Mooca</th>\n",
       "      <td>5004.02</td>\n",
       "    </tr>\n",
       "  </tbody>\n",
       "</table>\n",
       "</div>"
      ],
      "text/plain": [
       "        Valor Metro2\n",
       "Bairro              \n",
       "Mooca        5004.02"
      ]
     },
     "execution_count": 109,
     "metadata": {},
     "output_type": "execute_result"
    }
   ],
   "source": [
    "valor_metro_quadrado.query(\"Bairro == 'Mooca'\")"
   ]
  },
  {
   "cell_type": "markdown",
   "id": "2ede9669",
   "metadata": {},
   "source": [
    "→ Obs.: Os valores contidos em nossa base de dados são fictícios, portando não são valores confiáveis. Existem discrepâncias, e não vamos analisar até o momento quais são elas, apenas o que estamos buscando. \n",
    "\n",
    "- O gráfico mostra exatamente isso, com apenas um bairro custando R$800000,00 o metro quadrado e os demais custando 40 vezes menos praticamente, e caindo. "
   ]
  },
  {
   "cell_type": "markdown",
   "id": "cb07570e",
   "metadata": {},
   "source": [
    "### Desafio 2.04\n",
    "    - Explorar as bibliotecas de visualizações e colocar as suas conclusão."
   ]
  },
  {
   "cell_type": "code",
   "execution_count": 155,
   "id": "80e3e4f5",
   "metadata": {},
   "outputs": [
    {
     "data": {
      "image/png": "[encoded data removed]",
      "text/plain": [
       "<Figure size 1296x432 with 1 Axes>"
      ]
     },
     "metadata": {},
     "output_type": "display_data"
    }
   ],
   "source": [
    "plt.figure(figsize = (18, 6))\n",
    "ax = plt.plot(dados_filtro[\"Vagas\"], dados_filtro[\"Quartos\"])\n",
    "\n",
    "plt.ylim(0, 20)\n",
    "\n",
    "plt.title(\"Quantidade de Vagas / Quartos nos Imóveis de São Paulo\", pad=20, fontsize=20)\n",
    "plt.xlabel(\"Vagas\")\n",
    "plt.ylabel(\"Quartos\")\n",
    "plt.xticks(rotation=30)\n",
    "plt.grid('true')\n",
    "\n",
    "plt.show()"
   ]
  },
  {
   "cell_type": "markdown",
   "id": "df373efa",
   "metadata": {},
   "source": [
    "A cada feito, podemos analisar um pouco mais a base de dados. \n",
    "Os dados são completamente aleatórios, não revelando uma realidade até mesmo para quem entende pouco sobre casa, apartamentos, prédios... \n",
    "Podemos analisar acima que mesmo um imóvel que tenha 50 vagas, não tem nem a metade de quartos. Os dados não condizem com o \"normal\". \n",
    "Podemos ver também que um imóvel com 15 ou 16 quartos, tem menos de 5 vagas. \n",
    "Volto a repetir, essa base de dados é somente ilustrativa, e serve apenas para a prática, sem contexto profissional."
   ]
  },
  {
   "cell_type": "markdown",
   "id": "427915b9",
   "metadata": {},
   "source": [
    "### Desafio 2.05\n",
    "    - Pesquisar um visualização para analisar os quartis, mediana e outliers."
   ]
  },
  {
   "cell_type": "code",
   "execution_count": 159,
   "id": "5a4bbcb9",
   "metadata": {},
   "outputs": [
    {
     "data": {
      "text/html": [
       "<div>\n",
       "<style scoped>\n",
       "    .dataframe tbody tr th:only-of-type {\n",
       "        vertical-align: middle;\n",
       "    }\n",
       "\n",
       "    .dataframe tbody tr th {\n",
       "        vertical-align: top;\n",
       "    }\n",
       "\n",
       "    .dataframe thead th {\n",
       "        text-align: right;\n",
       "    }\n",
       "</style>\n",
       "<table border=\"1\" class=\"dataframe\">\n",
       "  <thead>\n",
       "    <tr style=\"text-align: right;\">\n",
       "      <th></th>\n",
       "      <th>Metragem</th>\n",
       "      <th>Quartos</th>\n",
       "      <th>Banheiros</th>\n",
       "      <th>Vagas</th>\n",
       "      <th>Valor_anuncio_float</th>\n",
       "    </tr>\n",
       "  </thead>\n",
       "  <tbody>\n",
       "    <tr>\n",
       "      <th>count</th>\n",
       "      <td>9156.00</td>\n",
       "      <td>9156.00</td>\n",
       "      <td>9156.00</td>\n",
       "      <td>9156.00</td>\n",
       "      <td>9156.00</td>\n",
       "    </tr>\n",
       "    <tr>\n",
       "      <th>mean</th>\n",
       "      <td>434.42</td>\n",
       "      <td>3.45</td>\n",
       "      <td>3.80</td>\n",
       "      <td>3.96</td>\n",
       "      <td>3052202.96</td>\n",
       "    </tr>\n",
       "    <tr>\n",
       "      <th>std</th>\n",
       "      <td>7856.42</td>\n",
       "      <td>1.05</td>\n",
       "      <td>1.97</td>\n",
       "      <td>2.60</td>\n",
       "      <td>3944208.19</td>\n",
       "    </tr>\n",
       "    <tr>\n",
       "      <th>min</th>\n",
       "      <td>10.00</td>\n",
       "      <td>1.00</td>\n",
       "      <td>1.00</td>\n",
       "      <td>1.00</td>\n",
       "      <td>13000.00</td>\n",
       "    </tr>\n",
       "    <tr>\n",
       "      <th>25%</th>\n",
       "      <td>168.00</td>\n",
       "      <td>3.00</td>\n",
       "      <td>2.00</td>\n",
       "      <td>2.00</td>\n",
       "      <td>890000.00</td>\n",
       "    </tr>\n",
       "    <tr>\n",
       "      <th>50%</th>\n",
       "      <td>276.00</td>\n",
       "      <td>3.00</td>\n",
       "      <td>4.00</td>\n",
       "      <td>4.00</td>\n",
       "      <td>1800000.00</td>\n",
       "    </tr>\n",
       "    <tr>\n",
       "      <th>75%</th>\n",
       "      <td>450.00</td>\n",
       "      <td>4.00</td>\n",
       "      <td>5.00</td>\n",
       "      <td>5.00</td>\n",
       "      <td>3500000.00</td>\n",
       "    </tr>\n",
       "    <tr>\n",
       "      <th>max</th>\n",
       "      <td>750000.00</td>\n",
       "      <td>16.00</td>\n",
       "      <td>40.00</td>\n",
       "      <td>50.00</td>\n",
       "      <td>65000000.00</td>\n",
       "    </tr>\n",
       "  </tbody>\n",
       "</table>\n",
       "</div>"
      ],
      "text/plain": [
       "       Metragem  Quartos  Banheiros   Vagas  Valor_anuncio_float\n",
       "count   9156.00  9156.00    9156.00 9156.00              9156.00\n",
       "mean     434.42     3.45       3.80    3.96           3052202.96\n",
       "std     7856.42     1.05       1.97    2.60           3944208.19\n",
       "min       10.00     1.00       1.00    1.00             13000.00\n",
       "25%      168.00     3.00       2.00    2.00            890000.00\n",
       "50%      276.00     3.00       4.00    4.00           1800000.00\n",
       "75%      450.00     4.00       5.00    5.00           3500000.00\n",
       "max   750000.00    16.00      40.00   50.00          65000000.00"
      ]
     },
     "execution_count": 159,
     "metadata": {},
     "output_type": "execute_result"
    }
   ],
   "source": [
    "dados_filtro.describe()"
   ]
  },
  {
   "cell_type": "code",
   "execution_count": 177,
   "id": "9b81603d",
   "metadata": {},
   "outputs": [
    {
     "data": {
      "image/png": "[encoded data removed]",
      "text/plain": [
       "<Figure size 1296x576 with 1 Axes>"
      ]
     },
     "metadata": {},
     "output_type": "display_data"
    }
   ],
   "source": [
    "plt.figure(figsize=(18, 8))\n",
    "sns.boxplot(data=dados_filtro[[\"Banheiros\", \"Quartos\"]], x=\"Banheiros\", y=\"Quartos\")\n",
    "plt.title('Boxplot')\n",
    "plt.xlabel('Banheiros')\n",
    "plt.ylabel('Quartos')\n",
    "plt.xticks(rotation=30)\n",
    "plt.show()"
   ]
  },
  {
   "cell_type": "markdown",
   "id": "81b1909d",
   "metadata": {},
   "source": [
    "Nesse último desafio, podemos analisar junto a informação da tabela anterior que a média de quartos é de um pouco mais de 3 por imóvel, tendo uma discrepância por apenas um imóvel com 16 quartos e apenas 5 banheiros e/ou outro com 12 banheiros e 9 quartos. Existem alguns outliers como o fato de um imóvel que tem a metragem de 750000 alterar os dados, e até mesmo outros com apenas 10 terem 3 quartos... \n",
    "Por ser uma base de dados fictícia, não podemos levar tanto em consideração, servindo apenas para a prática. \n",
    "Em média os imóveis tem 3 quartos, com 2 banheiros e 2 vagas ba garagem, deixando nossos dados muito relevantes levando em conta apenas esses dados.\n",
    "Os valores em R$ variam muito, mas estão na sua maioria localizados na área de R$1800000. Sendo o mais barato 13000 e o mais caro 65000000, possivelmente uma chácara, sítio ou prédio. "
   ]
  }
 ],
 "metadata": {
  "interpreter": {
   "hash": "97cc609b13305c559618ec78a438abc56230b9381f827f22d070313b9a1f3777"
  },
  "kernelspec": {
   "display_name": "Python 3.10.2 64-bit",
   "language": "python",
   "name": "python3"
  },
  "language_info": {
   "codemirror_mode": {
    "name": "ipython",
    "version": 3
   },
   "file_extension": ".py",
   "mimetype": "text/x-python",
   "name": "python",
   "nbconvert_exporter": "python",
   "pygments_lexer": "ipython3",
   "version": "3.10.4"
  }
 },
 "nbformat": 4,
 "nbformat_minor": 5
}
